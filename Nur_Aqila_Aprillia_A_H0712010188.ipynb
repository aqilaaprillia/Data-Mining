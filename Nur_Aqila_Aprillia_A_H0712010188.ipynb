{
  "nbformat": 4,
  "nbformat_minor": 0,
  "metadata": {
    "colab": {
      "name": "Nur Aqila Aprillia A-H0712010188.ipynb",
      "provenance": [],
      "collapsed_sections": []
    },
    "kernelspec": {
      "name": "python3",
      "display_name": "Python 3"
    },
    "language_info": {
      "name": "python"
    }
  },
  "cells": [
    {
      "cell_type": "markdown",
      "metadata": {
        "id": "Why8Iq1q7qLn"
      },
      "source": [
        "**TUGAS 1 PERTEMUAN 2**\n",
        "\n",
        "NAMA : NUR AQILA APRILLIA\n",
        "\n",
        "NIM : H071201088\n",
        "\n",
        "PRODI : SISTEM INFORMASI"
      ]
    },
    {
      "cell_type": "markdown",
      "metadata": {
        "id": "NuGtNfPz7hKh"
      },
      "source": [
        "**NO.1**\n",
        "\n",
        "Cari dan unduh dataset dari repository Kaggle dan UCI machine learning. (harus berbeda setiap individu mahasiswa)\n",
        "\n",
        "---\n"
      ]
    },
    {
      "cell_type": "code",
      "metadata": {
        "colab": {
          "base_uri": "https://localhost:8080/",
          "height": 414
        },
        "id": "IyAHUqTN2nkf",
        "outputId": "40dde546-beed-4e31-e4d5-8e7c73668318"
      },
      "source": [
        "import pandas as pd\n",
        "import numpy as np\n",
        "data=pd.read_csv(\"500_Person_Gender_Height_Weight_Index.csv\")\n",
        "data\n"
      ],
      "execution_count": 1,
      "outputs": [
        {
          "output_type": "execute_result",
          "data": {
            "text/html": [
              "<div>\n",
              "<style scoped>\n",
              "    .dataframe tbody tr th:only-of-type {\n",
              "        vertical-align: middle;\n",
              "    }\n",
              "\n",
              "    .dataframe tbody tr th {\n",
              "        vertical-align: top;\n",
              "    }\n",
              "\n",
              "    .dataframe thead th {\n",
              "        text-align: right;\n",
              "    }\n",
              "</style>\n",
              "<table border=\"1\" class=\"dataframe\">\n",
              "  <thead>\n",
              "    <tr style=\"text-align: right;\">\n",
              "      <th></th>\n",
              "      <th>Gender</th>\n",
              "      <th>Height</th>\n",
              "      <th>Weight</th>\n",
              "      <th>Index</th>\n",
              "    </tr>\n",
              "  </thead>\n",
              "  <tbody>\n",
              "    <tr>\n",
              "      <th>0</th>\n",
              "      <td>Male</td>\n",
              "      <td>174</td>\n",
              "      <td>96</td>\n",
              "      <td>4</td>\n",
              "    </tr>\n",
              "    <tr>\n",
              "      <th>1</th>\n",
              "      <td>Male</td>\n",
              "      <td>189</td>\n",
              "      <td>87</td>\n",
              "      <td>2</td>\n",
              "    </tr>\n",
              "    <tr>\n",
              "      <th>2</th>\n",
              "      <td>Female</td>\n",
              "      <td>185</td>\n",
              "      <td>110</td>\n",
              "      <td>4</td>\n",
              "    </tr>\n",
              "    <tr>\n",
              "      <th>3</th>\n",
              "      <td>Female</td>\n",
              "      <td>195</td>\n",
              "      <td>104</td>\n",
              "      <td>3</td>\n",
              "    </tr>\n",
              "    <tr>\n",
              "      <th>4</th>\n",
              "      <td>Male</td>\n",
              "      <td>149</td>\n",
              "      <td>61</td>\n",
              "      <td>3</td>\n",
              "    </tr>\n",
              "    <tr>\n",
              "      <th>...</th>\n",
              "      <td>...</td>\n",
              "      <td>...</td>\n",
              "      <td>...</td>\n",
              "      <td>...</td>\n",
              "    </tr>\n",
              "    <tr>\n",
              "      <th>495</th>\n",
              "      <td>Female</td>\n",
              "      <td>150</td>\n",
              "      <td>153</td>\n",
              "      <td>5</td>\n",
              "    </tr>\n",
              "    <tr>\n",
              "      <th>496</th>\n",
              "      <td>Female</td>\n",
              "      <td>184</td>\n",
              "      <td>121</td>\n",
              "      <td>4</td>\n",
              "    </tr>\n",
              "    <tr>\n",
              "      <th>497</th>\n",
              "      <td>Female</td>\n",
              "      <td>141</td>\n",
              "      <td>136</td>\n",
              "      <td>5</td>\n",
              "    </tr>\n",
              "    <tr>\n",
              "      <th>498</th>\n",
              "      <td>Male</td>\n",
              "      <td>150</td>\n",
              "      <td>95</td>\n",
              "      <td>5</td>\n",
              "    </tr>\n",
              "    <tr>\n",
              "      <th>499</th>\n",
              "      <td>Male</td>\n",
              "      <td>173</td>\n",
              "      <td>131</td>\n",
              "      <td>5</td>\n",
              "    </tr>\n",
              "  </tbody>\n",
              "</table>\n",
              "<p>500 rows × 4 columns</p>\n",
              "</div>"
            ],
            "text/plain": [
              "     Gender  Height  Weight  Index\n",
              "0      Male     174      96      4\n",
              "1      Male     189      87      2\n",
              "2    Female     185     110      4\n",
              "3    Female     195     104      3\n",
              "4      Male     149      61      3\n",
              "..      ...     ...     ...    ...\n",
              "495  Female     150     153      5\n",
              "496  Female     184     121      4\n",
              "497  Female     141     136      5\n",
              "498    Male     150      95      5\n",
              "499    Male     173     131      5\n",
              "\n",
              "[500 rows x 4 columns]"
            ]
          },
          "metadata": {},
          "execution_count": 1
        }
      ]
    },
    {
      "cell_type": "code",
      "metadata": {
        "id": "aMVGD48R2_tB"
      },
      "source": [
        ""
      ],
      "execution_count": null,
      "outputs": []
    },
    {
      "cell_type": "markdown",
      "metadata": {
        "id": "gDm3z3AF3huP"
      },
      "source": [
        "**NO.2**\n",
        "\n",
        "ceritakan dataset yang anda ambil dan kira-kira value apa yang anda bisa ambil dari data tersebut. \n",
        "\n",
        "\n",
        "\n",
        "---\n",
        "\n",
        "\n",
        "*jawab*\n",
        "\n",
        "\n",
        "\n",
        "Dataset yang saya ambil kali ini merupakan kumpulan data tinggi badan dan berat bdadan dari 500 orang \n",
        "\n",
        "\n",
        "**Tujuan dari dataset saya adalah :**\n",
        "untuk mengetahui apakah seseorang tersebut memiliki badan ideal atau tidak dengan mengetahui tinggi dan berat badannya.\n",
        "\n",
        "**adapun atribu-atribut dari dataset ini :**\n",
        "1. Gender : termasuk atribut nominal karena atribut gender ini berfungsi untuk membedakan antara male/female\n",
        "\n",
        "2. Height : termasuk atribut ratio karena memaparkan suatu nilai yaitu tinggi badan seseorang dengan satuan (cm)\n",
        "\n",
        "3. Weight : termasuk atribut ratio karena memaparkan suatu nilai yaitu berat badan seseorang dengan satuanr(Kg)\n",
        "\n",
        "4. Index : termasuk atribut ordinal karena atribut ini berupa rangking/ tingkatan yang bisa di bandingkan. perbadingan tersebut disimbolkan dalam angkan 0-5 yaitu :\n",
        "\n",
        "\n",
        "*   0 - Extremely Weak\n",
        "*   1 - Weak\n",
        "*   2 - Normal\n",
        "*   3 - Overweight\n",
        "*   4 - Obesity\n",
        "*   5 - Extreme Obesity\n"
      ]
    },
    {
      "cell_type": "markdown",
      "metadata": {
        "id": "f9veR94V6mnF"
      },
      "source": [
        "**NO.3**\n",
        "\n",
        "visualisasikan dataset yang anda ambil secara sederhana.\n",
        "\n",
        "\n",
        "---\n",
        "*jawab*"
      ]
    },
    {
      "cell_type": "markdown",
      "metadata": {
        "id": "SaaqKlYW67lX"
      },
      "source": [
        "mengakses suatu kolom yang bernama 'Height'"
      ]
    },
    {
      "cell_type": "code",
      "metadata": {
        "colab": {
          "base_uri": "https://localhost:8080/"
        },
        "id": "kBjFRw1n6tC8",
        "outputId": "bb6c732d-c418-4fc9-f7fd-1b871b6f432d"
      },
      "source": [
        "data['Height']"
      ],
      "execution_count": 2,
      "outputs": [
        {
          "output_type": "execute_result",
          "data": {
            "text/plain": [
              "0      174\n",
              "1      189\n",
              "2      185\n",
              "3      195\n",
              "4      149\n",
              "      ... \n",
              "495    150\n",
              "496    184\n",
              "497    141\n",
              "498    150\n",
              "499    173\n",
              "Name: Height, Length: 500, dtype: int64"
            ]
          },
          "metadata": {},
          "execution_count": 2
        }
      ]
    },
    {
      "cell_type": "markdown",
      "metadata": {
        "id": "g8l-8BvY7AwK"
      },
      "source": [
        "mengakses suatu baris yang ke 0"
      ]
    },
    {
      "cell_type": "code",
      "metadata": {
        "colab": {
          "base_uri": "https://localhost:8080/"
        },
        "id": "fv01vfnU7GHe",
        "outputId": "ab2be475-77a7-42f9-b403-0371a8d32795"
      },
      "source": [
        "data.iloc[0]"
      ],
      "execution_count": 3,
      "outputs": [
        {
          "output_type": "execute_result",
          "data": {
            "text/plain": [
              "Gender    Male\n",
              "Height     174\n",
              "Weight      96\n",
              "Index        4\n",
              "Name: 0, dtype: object"
            ]
          },
          "metadata": {},
          "execution_count": 3
        }
      ]
    },
    {
      "cell_type": "markdown",
      "metadata": {
        "id": "FCHy7v5I7Ljs"
      },
      "source": [
        "menampilkan grafik dari suatu data "
      ]
    },
    {
      "cell_type": "code",
      "metadata": {
        "colab": {
          "base_uri": "https://localhost:8080/",
          "height": 362
        },
        "id": "ytRKeHFM7VPq",
        "outputId": "156ff0d7-370b-4cfa-e964-03a9d4ff5da3"
      },
      "source": [
        "data.hist()"
      ],
      "execution_count": 4,
      "outputs": [
        {
          "output_type": "execute_result",
          "data": {
            "text/plain": [
              "array([[<matplotlib.axes._subplots.AxesSubplot object at 0x7f3063557f90>,\n",
              "        <matplotlib.axes._subplots.AxesSubplot object at 0x7f30634a3490>],\n",
              "       [<matplotlib.axes._subplots.AxesSubplot object at 0x7f30634db910>,\n",
              "        <matplotlib.axes._subplots.AxesSubplot object at 0x7f3063492f90>]],\n",
              "      dtype=object)"
            ]
          },
          "metadata": {},
          "execution_count": 4
        },
        {
          "output_type": "display_data",
          "data": {
            "image/png": "[encoded data removed]",
            "text/plain": [
              "<Figure size 432x288 with 4 Axes>"
            ]
          },
          "metadata": {
            "needs_background": "light"
          }
        }
      ]
    },
    {
      "cell_type": "markdown",
      "metadata": {
        "id": "urb9qyCr7ZtE"
      },
      "source": [
        "**NO 4**\n",
        "\n",
        "\n",
        "Deskripsikan informasi statistik dari data anda secara sederhana\n",
        "\n",
        "\n",
        "---\n",
        "\n",
        "*Jawab*\n"
      ]
    },
    {
      "cell_type": "code",
      "metadata": {
        "colab": {
          "base_uri": "https://localhost:8080/",
          "height": 290
        },
        "id": "e9hffJiQ7c6D",
        "outputId": "6db3163f-06d3-427a-b244-c848d52a7860"
      },
      "source": [
        "data.describe()"
      ],
      "execution_count": 5,
      "outputs": [
        {
          "output_type": "execute_result",
          "data": {
            "text/html": [
              "<div>\n",
              "<style scoped>\n",
              "    .dataframe tbody tr th:only-of-type {\n",
              "        vertical-align: middle;\n",
              "    }\n",
              "\n",
              "    .dataframe tbody tr th {\n",
              "        vertical-align: top;\n",
              "    }\n",
              "\n",
              "    .dataframe thead th {\n",
              "        text-align: right;\n",
              "    }\n",
              "</style>\n",
              "<table border=\"1\" class=\"dataframe\">\n",
              "  <thead>\n",
              "    <tr style=\"text-align: right;\">\n",
              "      <th></th>\n",
              "      <th>Height</th>\n",
              "      <th>Weight</th>\n",
              "      <th>Index</th>\n",
              "    </tr>\n",
              "  </thead>\n",
              "  <tbody>\n",
              "    <tr>\n",
              "      <th>count</th>\n",
              "      <td>500.000000</td>\n",
              "      <td>500.000000</td>\n",
              "      <td>500.000000</td>\n",
              "    </tr>\n",
              "    <tr>\n",
              "      <th>mean</th>\n",
              "      <td>169.944000</td>\n",
              "      <td>106.000000</td>\n",
              "      <td>3.748000</td>\n",
              "    </tr>\n",
              "    <tr>\n",
              "      <th>std</th>\n",
              "      <td>16.375261</td>\n",
              "      <td>32.382607</td>\n",
              "      <td>1.355053</td>\n",
              "    </tr>\n",
              "    <tr>\n",
              "      <th>min</th>\n",
              "      <td>140.000000</td>\n",
              "      <td>50.000000</td>\n",
              "      <td>0.000000</td>\n",
              "    </tr>\n",
              "    <tr>\n",
              "      <th>25%</th>\n",
              "      <td>156.000000</td>\n",
              "      <td>80.000000</td>\n",
              "      <td>3.000000</td>\n",
              "    </tr>\n",
              "    <tr>\n",
              "      <th>50%</th>\n",
              "      <td>170.500000</td>\n",
              "      <td>106.000000</td>\n",
              "      <td>4.000000</td>\n",
              "    </tr>\n",
              "    <tr>\n",
              "      <th>75%</th>\n",
              "      <td>184.000000</td>\n",
              "      <td>136.000000</td>\n",
              "      <td>5.000000</td>\n",
              "    </tr>\n",
              "    <tr>\n",
              "      <th>max</th>\n",
              "      <td>199.000000</td>\n",
              "      <td>160.000000</td>\n",
              "      <td>5.000000</td>\n",
              "    </tr>\n",
              "  </tbody>\n",
              "</table>\n",
              "</div>"
            ],
            "text/plain": [
              "           Height      Weight       Index\n",
              "count  500.000000  500.000000  500.000000\n",
              "mean   169.944000  106.000000    3.748000\n",
              "std     16.375261   32.382607    1.355053\n",
              "min    140.000000   50.000000    0.000000\n",
              "25%    156.000000   80.000000    3.000000\n",
              "50%    170.500000  106.000000    4.000000\n",
              "75%    184.000000  136.000000    5.000000\n",
              "max    199.000000  160.000000    5.000000"
            ]
          },
          "metadata": {},
          "execution_count": 5
        }
      ]
    }
  ]
}