{
  "nbformat": 4,
  "nbformat_minor": 0,
  "metadata": {
    "colab": {
      "name": "NUR_AQILA_APRILLIA_H071201088_TUGAS_4.ipynb",
      "provenance": [],
      "collapsed_sections": [
        "AvFsBqvnCRhj"
      ]
    },
    "kernelspec": {
      "name": "python3",
      "display_name": "Python 3"
    },
    "language_info": {
      "name": "python"
    }
  },
  "cells": [
    {
      "cell_type": "markdown",
      "metadata": {
        "id": "Kbm2cJafDdef"
      },
      "source": [
        "TUGAS PERTEMUAN 5\n",
        "\n",
        "NAMA : NUR AQILA APRILLIA \n",
        "\n",
        "NIM : H071201088\n",
        "\n",
        "PRODI : SISTEM INFORMASI"
      ]
    },
    {
      "cell_type": "markdown",
      "metadata": {
        "id": "tQJE6qAcDi9n"
      },
      "source": [
        "DATA INTEGRATION\n",
        "\n",
        "Integrasi data adalah proses menggabungkan atau mengkombinasikan dua atau lebih set data yang berasal dari sumber yang berbeda ke dalam suatu penyimpanan seperti data warehouse. Salah satu manfaat yang didapatkan dengan melakukan integrasi data adalah terhindar dari duplikat data. jika terdapat duplikat data maka akan mengganggu proses selanjutnya yang hendak dilakukan seperti analisis data karena nilai yang diperoleh bisa tidak konsisten"
      ]
    },
    {
      "cell_type": "markdown",
      "metadata": {
        "id": "jYjeI1z3DmPE"
      },
      "source": [
        "Pengurangan dimensi adalah proses pengurangan jumlah variabel atau atribut acak yang sedang dipertimbangkan. Reduksi data berdimensi tinggi, sebagai bagian dari langkah pra-pemrosesan data, sangat penting dalam banyak aplikasi dunia nyata. Pengurangan dimensi tinggi telah muncul sebagai salah satu tugas penting dalam aplikasi data mining. Misalnya, Anda mungkin memiliki kumpulan data dengan ratusan fitur (kolom di database Anda). Kemudian reduksi dimensionalitas adalah Anda mengurangi fitur atribut data tersebut dengan menggabungkan atau menggabungkannya sedemikian rupa sehingga tidak akan kehilangan banyak karakteristik signifikan dari dataset asli. Salah satu masalah utama yang terjadi dengan data berdimensi tinggi secara luas dikenal sebagai \"Curse of Dimensionality\". Ini mendorong kami untuk mengurangi dimensi data kami jika kami ingin menggunakannya untuk analisis"
      ]
    },
    {
      "cell_type": "markdown",
      "metadata": {
        "id": "AvFsBqvnCRhj"
      },
      "source": [
        "### PREPROCESSING"
      ]
    },
    {
      "cell_type": "code",
      "metadata": {
        "id": "Vio2i3xiiote"
      },
      "source": [
        "import pandas as pd\n",
        "import matplotlib\n",
        "import matplotlib.pyplot as plt"
      ],
      "execution_count": null,
      "outputs": []
    },
    {
      "cell_type": "code",
      "metadata": {
        "id": "mQ9Qx_YCiyS_"
      },
      "source": [
        "df = pd.read_csv(\"Real estate.csv\")"
      ],
      "execution_count": null,
      "outputs": []
    },
    {
      "cell_type": "code",
      "metadata": {
        "colab": {
          "base_uri": "https://localhost:8080/",
          "height": 431
        },
        "id": "MXvDRfV-i6R1",
        "outputId": "31044ad5-cba3-49ba-b869-3619056fae4b"
      },
      "source": [
        "df"
      ],
      "execution_count": null,
      "outputs": [
        {
          "output_type": "execute_result",
          "data": {
            "text/html": [
              "<div>\n",
              "<style scoped>\n",
              "    .dataframe tbody tr th:only-of-type {\n",
              "        vertical-align: middle;\n",
              "    }\n",
              "\n",
              "    .dataframe tbody tr th {\n",
              "        vertical-align: top;\n",
              "    }\n",
              "\n",
              "    .dataframe thead th {\n",
              "        text-align: right;\n",
              "    }\n",
              "</style>\n",
              "<table border=\"1\" class=\"dataframe\">\n",
              "  <thead>\n",
              "    <tr style=\"text-align: right;\">\n",
              "      <th></th>\n",
              "      <th>No</th>\n",
              "      <th>X1 transaction date</th>\n",
              "      <th>X2 house age</th>\n",
              "      <th>X3 distance to the nearest MRT station</th>\n",
              "      <th>X4 number of convenience stores</th>\n",
              "      <th>X5 latitude</th>\n",
              "      <th>X6 longitude</th>\n",
              "      <th>Y house price of unit area</th>\n",
              "    </tr>\n",
              "  </thead>\n",
              "  <tbody>\n",
              "    <tr>\n",
              "      <th>0</th>\n",
              "      <td>1</td>\n",
              "      <td>2012.917</td>\n",
              "      <td>32.0</td>\n",
              "      <td>84.87882</td>\n",
              "      <td>10</td>\n",
              "      <td>24.98298</td>\n",
              "      <td>121.54024</td>\n",
              "      <td>37.9</td>\n",
              "    </tr>\n",
              "    <tr>\n",
              "      <th>1</th>\n",
              "      <td>2</td>\n",
              "      <td>2012.917</td>\n",
              "      <td>19.5</td>\n",
              "      <td>306.59470</td>\n",
              "      <td>9</td>\n",
              "      <td>24.98034</td>\n",
              "      <td>121.53951</td>\n",
              "      <td>42.2</td>\n",
              "    </tr>\n",
              "    <tr>\n",
              "      <th>2</th>\n",
              "      <td>3</td>\n",
              "      <td>2013.583</td>\n",
              "      <td>13.3</td>\n",
              "      <td>561.98450</td>\n",
              "      <td>5</td>\n",
              "      <td>24.98746</td>\n",
              "      <td>121.54391</td>\n",
              "      <td>47.3</td>\n",
              "    </tr>\n",
              "    <tr>\n",
              "      <th>3</th>\n",
              "      <td>4</td>\n",
              "      <td>2013.500</td>\n",
              "      <td>13.3</td>\n",
              "      <td>561.98450</td>\n",
              "      <td>5</td>\n",
              "      <td>24.98746</td>\n",
              "      <td>121.54391</td>\n",
              "      <td>54.8</td>\n",
              "    </tr>\n",
              "    <tr>\n",
              "      <th>4</th>\n",
              "      <td>5</td>\n",
              "      <td>2012.833</td>\n",
              "      <td>5.0</td>\n",
              "      <td>390.56840</td>\n",
              "      <td>5</td>\n",
              "      <td>24.97937</td>\n",
              "      <td>121.54245</td>\n",
              "      <td>43.1</td>\n",
              "    </tr>\n",
              "    <tr>\n",
              "      <th>...</th>\n",
              "      <td>...</td>\n",
              "      <td>...</td>\n",
              "      <td>...</td>\n",
              "      <td>...</td>\n",
              "      <td>...</td>\n",
              "      <td>...</td>\n",
              "      <td>...</td>\n",
              "      <td>...</td>\n",
              "    </tr>\n",
              "    <tr>\n",
              "      <th>409</th>\n",
              "      <td>410</td>\n",
              "      <td>2013.000</td>\n",
              "      <td>13.7</td>\n",
              "      <td>4082.01500</td>\n",
              "      <td>0</td>\n",
              "      <td>24.94155</td>\n",
              "      <td>121.50381</td>\n",
              "      <td>15.4</td>\n",
              "    </tr>\n",
              "    <tr>\n",
              "      <th>410</th>\n",
              "      <td>411</td>\n",
              "      <td>2012.667</td>\n",
              "      <td>5.6</td>\n",
              "      <td>90.45606</td>\n",
              "      <td>9</td>\n",
              "      <td>24.97433</td>\n",
              "      <td>121.54310</td>\n",
              "      <td>50.0</td>\n",
              "    </tr>\n",
              "    <tr>\n",
              "      <th>411</th>\n",
              "      <td>412</td>\n",
              "      <td>2013.250</td>\n",
              "      <td>18.8</td>\n",
              "      <td>390.96960</td>\n",
              "      <td>7</td>\n",
              "      <td>24.97923</td>\n",
              "      <td>121.53986</td>\n",
              "      <td>40.6</td>\n",
              "    </tr>\n",
              "    <tr>\n",
              "      <th>412</th>\n",
              "      <td>413</td>\n",
              "      <td>2013.000</td>\n",
              "      <td>8.1</td>\n",
              "      <td>104.81010</td>\n",
              "      <td>5</td>\n",
              "      <td>24.96674</td>\n",
              "      <td>121.54067</td>\n",
              "      <td>52.5</td>\n",
              "    </tr>\n",
              "    <tr>\n",
              "      <th>413</th>\n",
              "      <td>414</td>\n",
              "      <td>2013.500</td>\n",
              "      <td>6.5</td>\n",
              "      <td>90.45606</td>\n",
              "      <td>9</td>\n",
              "      <td>24.97433</td>\n",
              "      <td>121.54310</td>\n",
              "      <td>63.9</td>\n",
              "    </tr>\n",
              "  </tbody>\n",
              "</table>\n",
              "<p>414 rows × 8 columns</p>\n",
              "</div>"
            ],
            "text/plain": [
              "      No  X1 transaction date  ...  X6 longitude  Y house price of unit area\n",
              "0      1             2012.917  ...     121.54024                        37.9\n",
              "1      2             2012.917  ...     121.53951                        42.2\n",
              "2      3             2013.583  ...     121.54391                        47.3\n",
              "3      4             2013.500  ...     121.54391                        54.8\n",
              "4      5             2012.833  ...     121.54245                        43.1\n",
              "..   ...                  ...  ...           ...                         ...\n",
              "409  410             2013.000  ...     121.50381                        15.4\n",
              "410  411             2012.667  ...     121.54310                        50.0\n",
              "411  412             2013.250  ...     121.53986                        40.6\n",
              "412  413             2013.000  ...     121.54067                        52.5\n",
              "413  414             2013.500  ...     121.54310                        63.9\n",
              "\n",
              "[414 rows x 8 columns]"
            ]
          },
          "metadata": {},
          "execution_count": 4
        }
      ]
    },
    {
      "cell_type": "code",
      "metadata": {
        "colab": {
          "base_uri": "https://localhost:8080/",
          "height": 218
        },
        "id": "o3vd009sjhC4",
        "outputId": "c2618e4a-53b8-42f2-b7c3-34d019a63576"
      },
      "source": [
        "df.head()"
      ],
      "execution_count": null,
      "outputs": [
        {
          "output_type": "execute_result",
          "data": {
            "text/html": [
              "<div>\n",
              "<style scoped>\n",
              "    .dataframe tbody tr th:only-of-type {\n",
              "        vertical-align: middle;\n",
              "    }\n",
              "\n",
              "    .dataframe tbody tr th {\n",
              "        vertical-align: top;\n",
              "    }\n",
              "\n",
              "    .dataframe thead th {\n",
              "        text-align: right;\n",
              "    }\n",
              "</style>\n",
              "<table border=\"1\" class=\"dataframe\">\n",
              "  <thead>\n",
              "    <tr style=\"text-align: right;\">\n",
              "      <th></th>\n",
              "      <th>No</th>\n",
              "      <th>X1 transaction date</th>\n",
              "      <th>X2 house age</th>\n",
              "      <th>X3 distance to the nearest MRT station</th>\n",
              "      <th>X4 number of convenience stores</th>\n",
              "      <th>X5 latitude</th>\n",
              "      <th>X6 longitude</th>\n",
              "      <th>Y house price of unit area</th>\n",
              "    </tr>\n",
              "  </thead>\n",
              "  <tbody>\n",
              "    <tr>\n",
              "      <th>0</th>\n",
              "      <td>1</td>\n",
              "      <td>2012.917</td>\n",
              "      <td>32.0</td>\n",
              "      <td>84.87882</td>\n",
              "      <td>10</td>\n",
              "      <td>24.98298</td>\n",
              "      <td>121.54024</td>\n",
              "      <td>37.9</td>\n",
              "    </tr>\n",
              "    <tr>\n",
              "      <th>1</th>\n",
              "      <td>2</td>\n",
              "      <td>2012.917</td>\n",
              "      <td>19.5</td>\n",
              "      <td>306.59470</td>\n",
              "      <td>9</td>\n",
              "      <td>24.98034</td>\n",
              "      <td>121.53951</td>\n",
              "      <td>42.2</td>\n",
              "    </tr>\n",
              "    <tr>\n",
              "      <th>2</th>\n",
              "      <td>3</td>\n",
              "      <td>2013.583</td>\n",
              "      <td>13.3</td>\n",
              "      <td>561.98450</td>\n",
              "      <td>5</td>\n",
              "      <td>24.98746</td>\n",
              "      <td>121.54391</td>\n",
              "      <td>47.3</td>\n",
              "    </tr>\n",
              "    <tr>\n",
              "      <th>3</th>\n",
              "      <td>4</td>\n",
              "      <td>2013.500</td>\n",
              "      <td>13.3</td>\n",
              "      <td>561.98450</td>\n",
              "      <td>5</td>\n",
              "      <td>24.98746</td>\n",
              "      <td>121.54391</td>\n",
              "      <td>54.8</td>\n",
              "    </tr>\n",
              "    <tr>\n",
              "      <th>4</th>\n",
              "      <td>5</td>\n",
              "      <td>2012.833</td>\n",
              "      <td>5.0</td>\n",
              "      <td>390.56840</td>\n",
              "      <td>5</td>\n",
              "      <td>24.97937</td>\n",
              "      <td>121.54245</td>\n",
              "      <td>43.1</td>\n",
              "    </tr>\n",
              "  </tbody>\n",
              "</table>\n",
              "</div>"
            ],
            "text/plain": [
              "   No  X1 transaction date  ...  X6 longitude  Y house price of unit area\n",
              "0   1             2012.917  ...     121.54024                        37.9\n",
              "1   2             2012.917  ...     121.53951                        42.2\n",
              "2   3             2013.583  ...     121.54391                        47.3\n",
              "3   4             2013.500  ...     121.54391                        54.8\n",
              "4   5             2012.833  ...     121.54245                        43.1\n",
              "\n",
              "[5 rows x 8 columns]"
            ]
          },
          "metadata": {},
          "execution_count": 5
        }
      ]
    },
    {
      "cell_type": "code",
      "metadata": {
        "colab": {
          "base_uri": "https://localhost:8080/"
        },
        "id": "K5AZQ2y8jm6o",
        "outputId": "f191576a-9128-4769-bcb5-9526620575a8"
      },
      "source": [
        "df.isnull().sum()"
      ],
      "execution_count": null,
      "outputs": [
        {
          "output_type": "execute_result",
          "data": {
            "text/plain": [
              "No                                        0\n",
              "X1 transaction date                       0\n",
              "X2 house age                              0\n",
              "X3 distance to the nearest MRT station    0\n",
              "X4 number of convenience stores           0\n",
              "X5 latitude                               0\n",
              "X6 longitude                              0\n",
              "Y house price of unit area                0\n",
              "dtype: int64"
            ]
          },
          "metadata": {},
          "execution_count": 6
        }
      ]
    },
    {
      "cell_type": "code",
      "metadata": {
        "colab": {
          "base_uri": "https://localhost:8080/",
          "height": 662
        },
        "id": "78OB8Cbk20_a",
        "outputId": "6321f331-b04f-4c36-acf5-8314788d1a05"
      },
      "source": [
        "df = df.drop(['X1 transaction date','X4 number of convenience stores', 'X5 latitude', 'X6 longitude'],axis=1)\n",
        "\n",
        "df = df.fillna(df.mean())\n",
        "df.head(20)"
      ],
      "execution_count": null,
      "outputs": [
        {
          "output_type": "execute_result",
          "data": {
            "text/html": [
              "<div>\n",
              "<style scoped>\n",
              "    .dataframe tbody tr th:only-of-type {\n",
              "        vertical-align: middle;\n",
              "    }\n",
              "\n",
              "    .dataframe tbody tr th {\n",
              "        vertical-align: top;\n",
              "    }\n",
              "\n",
              "    .dataframe thead th {\n",
              "        text-align: right;\n",
              "    }\n",
              "</style>\n",
              "<table border=\"1\" class=\"dataframe\">\n",
              "  <thead>\n",
              "    <tr style=\"text-align: right;\">\n",
              "      <th></th>\n",
              "      <th>No</th>\n",
              "      <th>X2 house age</th>\n",
              "      <th>X3 distance to the nearest MRT station</th>\n",
              "      <th>Y house price of unit area</th>\n",
              "    </tr>\n",
              "  </thead>\n",
              "  <tbody>\n",
              "    <tr>\n",
              "      <th>0</th>\n",
              "      <td>1</td>\n",
              "      <td>32.0</td>\n",
              "      <td>84.87882</td>\n",
              "      <td>37.9</td>\n",
              "    </tr>\n",
              "    <tr>\n",
              "      <th>1</th>\n",
              "      <td>2</td>\n",
              "      <td>19.5</td>\n",
              "      <td>306.59470</td>\n",
              "      <td>42.2</td>\n",
              "    </tr>\n",
              "    <tr>\n",
              "      <th>2</th>\n",
              "      <td>3</td>\n",
              "      <td>13.3</td>\n",
              "      <td>561.98450</td>\n",
              "      <td>47.3</td>\n",
              "    </tr>\n",
              "    <tr>\n",
              "      <th>3</th>\n",
              "      <td>4</td>\n",
              "      <td>13.3</td>\n",
              "      <td>561.98450</td>\n",
              "      <td>54.8</td>\n",
              "    </tr>\n",
              "    <tr>\n",
              "      <th>4</th>\n",
              "      <td>5</td>\n",
              "      <td>5.0</td>\n",
              "      <td>390.56840</td>\n",
              "      <td>43.1</td>\n",
              "    </tr>\n",
              "    <tr>\n",
              "      <th>5</th>\n",
              "      <td>6</td>\n",
              "      <td>7.1</td>\n",
              "      <td>2175.03000</td>\n",
              "      <td>32.1</td>\n",
              "    </tr>\n",
              "    <tr>\n",
              "      <th>6</th>\n",
              "      <td>7</td>\n",
              "      <td>34.5</td>\n",
              "      <td>623.47310</td>\n",
              "      <td>40.3</td>\n",
              "    </tr>\n",
              "    <tr>\n",
              "      <th>7</th>\n",
              "      <td>8</td>\n",
              "      <td>20.3</td>\n",
              "      <td>287.60250</td>\n",
              "      <td>46.7</td>\n",
              "    </tr>\n",
              "    <tr>\n",
              "      <th>8</th>\n",
              "      <td>9</td>\n",
              "      <td>31.7</td>\n",
              "      <td>5512.03800</td>\n",
              "      <td>18.8</td>\n",
              "    </tr>\n",
              "    <tr>\n",
              "      <th>9</th>\n",
              "      <td>10</td>\n",
              "      <td>17.9</td>\n",
              "      <td>1783.18000</td>\n",
              "      <td>22.1</td>\n",
              "    </tr>\n",
              "    <tr>\n",
              "      <th>10</th>\n",
              "      <td>11</td>\n",
              "      <td>34.8</td>\n",
              "      <td>405.21340</td>\n",
              "      <td>41.4</td>\n",
              "    </tr>\n",
              "    <tr>\n",
              "      <th>11</th>\n",
              "      <td>12</td>\n",
              "      <td>6.3</td>\n",
              "      <td>90.45606</td>\n",
              "      <td>58.1</td>\n",
              "    </tr>\n",
              "    <tr>\n",
              "      <th>12</th>\n",
              "      <td>13</td>\n",
              "      <td>13.0</td>\n",
              "      <td>492.23130</td>\n",
              "      <td>39.3</td>\n",
              "    </tr>\n",
              "    <tr>\n",
              "      <th>13</th>\n",
              "      <td>14</td>\n",
              "      <td>20.4</td>\n",
              "      <td>2469.64500</td>\n",
              "      <td>23.8</td>\n",
              "    </tr>\n",
              "    <tr>\n",
              "      <th>14</th>\n",
              "      <td>15</td>\n",
              "      <td>13.2</td>\n",
              "      <td>1164.83800</td>\n",
              "      <td>34.3</td>\n",
              "    </tr>\n",
              "    <tr>\n",
              "      <th>15</th>\n",
              "      <td>16</td>\n",
              "      <td>35.7</td>\n",
              "      <td>579.20830</td>\n",
              "      <td>50.5</td>\n",
              "    </tr>\n",
              "    <tr>\n",
              "      <th>16</th>\n",
              "      <td>17</td>\n",
              "      <td>0.0</td>\n",
              "      <td>292.99780</td>\n",
              "      <td>70.1</td>\n",
              "    </tr>\n",
              "    <tr>\n",
              "      <th>17</th>\n",
              "      <td>18</td>\n",
              "      <td>17.7</td>\n",
              "      <td>350.85150</td>\n",
              "      <td>37.4</td>\n",
              "    </tr>\n",
              "    <tr>\n",
              "      <th>18</th>\n",
              "      <td>19</td>\n",
              "      <td>16.9</td>\n",
              "      <td>368.13630</td>\n",
              "      <td>42.3</td>\n",
              "    </tr>\n",
              "    <tr>\n",
              "      <th>19</th>\n",
              "      <td>20</td>\n",
              "      <td>1.5</td>\n",
              "      <td>23.38284</td>\n",
              "      <td>47.7</td>\n",
              "    </tr>\n",
              "  </tbody>\n",
              "</table>\n",
              "</div>"
            ],
            "text/plain": [
              "    No  ...  Y house price of unit area\n",
              "0    1  ...                        37.9\n",
              "1    2  ...                        42.2\n",
              "2    3  ...                        47.3\n",
              "3    4  ...                        54.8\n",
              "4    5  ...                        43.1\n",
              "5    6  ...                        32.1\n",
              "6    7  ...                        40.3\n",
              "7    8  ...                        46.7\n",
              "8    9  ...                        18.8\n",
              "9   10  ...                        22.1\n",
              "10  11  ...                        41.4\n",
              "11  12  ...                        58.1\n",
              "12  13  ...                        39.3\n",
              "13  14  ...                        23.8\n",
              "14  15  ...                        34.3\n",
              "15  16  ...                        50.5\n",
              "16  17  ...                        70.1\n",
              "17  18  ...                        37.4\n",
              "18  19  ...                        42.3\n",
              "19  20  ...                        47.7\n",
              "\n",
              "[20 rows x 4 columns]"
            ]
          },
          "metadata": {},
          "execution_count": 7
        }
      ]
    },
    {
      "cell_type": "code",
      "metadata": {
        "colab": {
          "base_uri": "https://localhost:8080/"
        },
        "id": "u2_0NEZw3Xda",
        "outputId": "568ec60e-407b-4473-d5ab-c5d4e49439fe"
      },
      "source": [
        "df.isnull().sum()"
      ],
      "execution_count": null,
      "outputs": [
        {
          "output_type": "execute_result",
          "data": {
            "text/plain": [
              "No                                        0\n",
              "X2 house age                              0\n",
              "X3 distance to the nearest MRT station    0\n",
              "Y house price of unit area                0\n",
              "dtype: int64"
            ]
          },
          "metadata": {},
          "execution_count": 8
        }
      ]
    },
    {
      "cell_type": "code",
      "metadata": {
        "colab": {
          "base_uri": "https://localhost:8080/"
        },
        "id": "F3mxTYXz3ckS",
        "outputId": "6794c4a3-762d-48b9-827d-ecb3c9fda6ed"
      },
      "source": [
        "df[\"Y house price of unit area\"].value_counts()"
      ],
      "execution_count": null,
      "outputs": [
        {
          "output_type": "execute_result",
          "data": {
            "text/plain": [
              "42.0    4\n",
              "37.5    4\n",
              "42.3    4\n",
              "31.3    4\n",
              "40.3    4\n",
              "       ..\n",
              "20.8    1\n",
              "18.6    1\n",
              "47.4    1\n",
              "57.1    1\n",
              "50.5    1\n",
              "Name: Y house price of unit area, Length: 270, dtype: int64"
            ]
          },
          "metadata": {},
          "execution_count": 9
        }
      ]
    },
    {
      "cell_type": "code",
      "metadata": {
        "colab": {
          "base_uri": "https://localhost:8080/"
        },
        "id": "aO8URkb7lCBz",
        "outputId": "a802e225-9c0b-47b2-ca89-58a1cc78ffff"
      },
      "source": [
        "X = df.drop(\"Y house price of unit area\",1)   #Feature Matrix\n",
        "y = df[\"Y house price of unit area\"]          #Target Variable\n",
        "df.head()\n",
        "print(X)\n",
        "column_name = list(X.columns)"
      ],
      "execution_count": null,
      "outputs": [
        {
          "output_type": "stream",
          "name": "stdout",
          "text": [
            "      No  X2 house age  X3 distance to the nearest MRT station\n",
            "0      1          32.0                                84.87882\n",
            "1      2          19.5                               306.59470\n",
            "2      3          13.3                               561.98450\n",
            "3      4          13.3                               561.98450\n",
            "4      5           5.0                               390.56840\n",
            "..   ...           ...                                     ...\n",
            "409  410          13.7                              4082.01500\n",
            "410  411           5.6                                90.45606\n",
            "411  412          18.8                               390.96960\n",
            "412  413           8.1                               104.81010\n",
            "413  414           6.5                                90.45606\n",
            "\n",
            "[414 rows x 3 columns]\n"
          ]
        }
      ]
    },
    {
      "cell_type": "code",
      "metadata": {
        "colab": {
          "base_uri": "https://localhost:8080/",
          "height": 294
        },
        "id": "4j8-K_wUlVP0",
        "outputId": "54f690a3-08fd-4ea3-ab7d-36e2618e76cf"
      },
      "source": [
        "df.describe()"
      ],
      "execution_count": null,
      "outputs": [
        {
          "output_type": "execute_result",
          "data": {
            "text/html": [
              "<div>\n",
              "<style scoped>\n",
              "    .dataframe tbody tr th:only-of-type {\n",
              "        vertical-align: middle;\n",
              "    }\n",
              "\n",
              "    .dataframe tbody tr th {\n",
              "        vertical-align: top;\n",
              "    }\n",
              "\n",
              "    .dataframe thead th {\n",
              "        text-align: right;\n",
              "    }\n",
              "</style>\n",
              "<table border=\"1\" class=\"dataframe\">\n",
              "  <thead>\n",
              "    <tr style=\"text-align: right;\">\n",
              "      <th></th>\n",
              "      <th>No</th>\n",
              "      <th>X2 house age</th>\n",
              "      <th>X3 distance to the nearest MRT station</th>\n",
              "      <th>Y house price of unit area</th>\n",
              "    </tr>\n",
              "  </thead>\n",
              "  <tbody>\n",
              "    <tr>\n",
              "      <th>count</th>\n",
              "      <td>414.000000</td>\n",
              "      <td>414.000000</td>\n",
              "      <td>414.000000</td>\n",
              "      <td>414.000000</td>\n",
              "    </tr>\n",
              "    <tr>\n",
              "      <th>mean</th>\n",
              "      <td>207.500000</td>\n",
              "      <td>17.712560</td>\n",
              "      <td>1083.885689</td>\n",
              "      <td>37.980193</td>\n",
              "    </tr>\n",
              "    <tr>\n",
              "      <th>std</th>\n",
              "      <td>119.655756</td>\n",
              "      <td>11.392485</td>\n",
              "      <td>1262.109595</td>\n",
              "      <td>13.606488</td>\n",
              "    </tr>\n",
              "    <tr>\n",
              "      <th>min</th>\n",
              "      <td>1.000000</td>\n",
              "      <td>0.000000</td>\n",
              "      <td>23.382840</td>\n",
              "      <td>7.600000</td>\n",
              "    </tr>\n",
              "    <tr>\n",
              "      <th>25%</th>\n",
              "      <td>104.250000</td>\n",
              "      <td>9.025000</td>\n",
              "      <td>289.324800</td>\n",
              "      <td>27.700000</td>\n",
              "    </tr>\n",
              "    <tr>\n",
              "      <th>50%</th>\n",
              "      <td>207.500000</td>\n",
              "      <td>16.100000</td>\n",
              "      <td>492.231300</td>\n",
              "      <td>38.450000</td>\n",
              "    </tr>\n",
              "    <tr>\n",
              "      <th>75%</th>\n",
              "      <td>310.750000</td>\n",
              "      <td>28.150000</td>\n",
              "      <td>1454.279000</td>\n",
              "      <td>46.600000</td>\n",
              "    </tr>\n",
              "    <tr>\n",
              "      <th>max</th>\n",
              "      <td>414.000000</td>\n",
              "      <td>43.800000</td>\n",
              "      <td>6488.021000</td>\n",
              "      <td>117.500000</td>\n",
              "    </tr>\n",
              "  </tbody>\n",
              "</table>\n",
              "</div>"
            ],
            "text/plain": [
              "               No  ...  Y house price of unit area\n",
              "count  414.000000  ...                  414.000000\n",
              "mean   207.500000  ...                   37.980193\n",
              "std    119.655756  ...                   13.606488\n",
              "min      1.000000  ...                    7.600000\n",
              "25%    104.250000  ...                   27.700000\n",
              "50%    207.500000  ...                   38.450000\n",
              "75%    310.750000  ...                   46.600000\n",
              "max    414.000000  ...                  117.500000\n",
              "\n",
              "[8 rows x 4 columns]"
            ]
          },
          "metadata": {},
          "execution_count": 11
        }
      ]
    },
    {
      "cell_type": "code",
      "metadata": {
        "id": "T81skpUIlVIq"
      },
      "source": [
        "from sklearn.preprocessing import MinMaxScaler\n",
        "scaler = MinMaxScaler() \n",
        "data_scaled = scaler.fit_transform(X)"
      ],
      "execution_count": null,
      "outputs": []
    },
    {
      "cell_type": "code",
      "metadata": {
        "colab": {
          "base_uri": "https://localhost:8080/"
        },
        "id": "qYpb3Cp6lb6j",
        "outputId": "08ccffb8-ea50-4471-a59a-9b8c90c1381d"
      },
      "source": [
        "print('Min : ', data_scaled.min(axis=0))\n",
        "print('Max : ', data_scaled.max(axis=0))"
      ],
      "execution_count": null,
      "outputs": [
        {
          "output_type": "stream",
          "name": "stdout",
          "text": [
            "Min :  [0. 0. 0.]\n",
            "Max :  [1. 1. 1.]\n"
          ]
        }
      ]
    },
    {
      "cell_type": "code",
      "metadata": {
        "colab": {
          "base_uri": "https://localhost:8080/",
          "height": 202
        },
        "id": "m-0JuS3tlfA7",
        "outputId": "06d8d69c-9018-41b3-f4e4-31c67cd02e71"
      },
      "source": [
        "df = pd.DataFrame(data=data_scaled, columns= column_name)\n",
        "df.head()"
      ],
      "execution_count": null,
      "outputs": [
        {
          "output_type": "execute_result",
          "data": {
            "text/html": [
              "<div>\n",
              "<style scoped>\n",
              "    .dataframe tbody tr th:only-of-type {\n",
              "        vertical-align: middle;\n",
              "    }\n",
              "\n",
              "    .dataframe tbody tr th {\n",
              "        vertical-align: top;\n",
              "    }\n",
              "\n",
              "    .dataframe thead th {\n",
              "        text-align: right;\n",
              "    }\n",
              "</style>\n",
              "<table border=\"1\" class=\"dataframe\">\n",
              "  <thead>\n",
              "    <tr style=\"text-align: right;\">\n",
              "      <th></th>\n",
              "      <th>No</th>\n",
              "      <th>X2 house age</th>\n",
              "      <th>X3 distance to the nearest MRT station</th>\n",
              "    </tr>\n",
              "  </thead>\n",
              "  <tbody>\n",
              "    <tr>\n",
              "      <th>0</th>\n",
              "      <td>0.000000</td>\n",
              "      <td>0.730594</td>\n",
              "      <td>0.009513</td>\n",
              "    </tr>\n",
              "    <tr>\n",
              "      <th>1</th>\n",
              "      <td>0.002421</td>\n",
              "      <td>0.445205</td>\n",
              "      <td>0.043809</td>\n",
              "    </tr>\n",
              "    <tr>\n",
              "      <th>2</th>\n",
              "      <td>0.004843</td>\n",
              "      <td>0.303653</td>\n",
              "      <td>0.083315</td>\n",
              "    </tr>\n",
              "    <tr>\n",
              "      <th>3</th>\n",
              "      <td>0.007264</td>\n",
              "      <td>0.303653</td>\n",
              "      <td>0.083315</td>\n",
              "    </tr>\n",
              "    <tr>\n",
              "      <th>4</th>\n",
              "      <td>0.009685</td>\n",
              "      <td>0.114155</td>\n",
              "      <td>0.056799</td>\n",
              "    </tr>\n",
              "  </tbody>\n",
              "</table>\n",
              "</div>"
            ],
            "text/plain": [
              "         No  X2 house age  X3 distance to the nearest MRT station\n",
              "0  0.000000      0.730594                                0.009513\n",
              "1  0.002421      0.445205                                0.043809\n",
              "2  0.004843      0.303653                                0.083315\n",
              "3  0.007264      0.303653                                0.083315\n",
              "4  0.009685      0.114155                                0.056799"
            ]
          },
          "metadata": {},
          "execution_count": 14
        }
      ]
    },
    {
      "cell_type": "code",
      "metadata": {
        "colab": {
          "base_uri": "https://localhost:8080/",
          "height": 270
        },
        "id": "LZf0HAk2li7D",
        "outputId": "71ad413d-617e-4b49-dbd1-90dfef5c0923"
      },
      "source": [
        "import seaborn as sns\n",
        "sns.boxplot(y=df['X2 house age'])"
      ],
      "execution_count": null,
      "outputs": [
        {
          "output_type": "execute_result",
          "data": {
            "text/plain": [
              "<matplotlib.axes._subplots.AxesSubplot at 0x7fe0aeb74b90>"
            ]
          },
          "metadata": {},
          "execution_count": 15
        },
        {
          "output_type": "display_data",
          "data": {
            "image/png": "[encoded data removed]",
            "text/plain": [
              "<Figure size 432x288 with 1 Axes>"
            ]
          },
          "metadata": {
            "needs_background": "light"
          }
        }
      ]
    },
    {
      "cell_type": "code",
      "metadata": {
        "colab": {
          "base_uri": "https://localhost:8080/",
          "height": 202
        },
        "id": "QFByPusSloIt",
        "outputId": "0f2dcd7e-f10f-4c8f-91b7-bb198edbab03"
      },
      "source": [
        "df = pd.concat([df, y], axis = 1)\n",
        "df.head()"
      ],
      "execution_count": null,
      "outputs": [
        {
          "output_type": "execute_result",
          "data": {
            "text/html": [
              "<div>\n",
              "<style scoped>\n",
              "    .dataframe tbody tr th:only-of-type {\n",
              "        vertical-align: middle;\n",
              "    }\n",
              "\n",
              "    .dataframe tbody tr th {\n",
              "        vertical-align: top;\n",
              "    }\n",
              "\n",
              "    .dataframe thead th {\n",
              "        text-align: right;\n",
              "    }\n",
              "</style>\n",
              "<table border=\"1\" class=\"dataframe\">\n",
              "  <thead>\n",
              "    <tr style=\"text-align: right;\">\n",
              "      <th></th>\n",
              "      <th>No</th>\n",
              "      <th>X2 house age</th>\n",
              "      <th>X3 distance to the nearest MRT station</th>\n",
              "      <th>Y house price of unit area</th>\n",
              "    </tr>\n",
              "  </thead>\n",
              "  <tbody>\n",
              "    <tr>\n",
              "      <th>0</th>\n",
              "      <td>0.000000</td>\n",
              "      <td>0.730594</td>\n",
              "      <td>0.009513</td>\n",
              "      <td>37.9</td>\n",
              "    </tr>\n",
              "    <tr>\n",
              "      <th>1</th>\n",
              "      <td>0.002421</td>\n",
              "      <td>0.445205</td>\n",
              "      <td>0.043809</td>\n",
              "      <td>42.2</td>\n",
              "    </tr>\n",
              "    <tr>\n",
              "      <th>2</th>\n",
              "      <td>0.004843</td>\n",
              "      <td>0.303653</td>\n",
              "      <td>0.083315</td>\n",
              "      <td>47.3</td>\n",
              "    </tr>\n",
              "    <tr>\n",
              "      <th>3</th>\n",
              "      <td>0.007264</td>\n",
              "      <td>0.303653</td>\n",
              "      <td>0.083315</td>\n",
              "      <td>54.8</td>\n",
              "    </tr>\n",
              "    <tr>\n",
              "      <th>4</th>\n",
              "      <td>0.009685</td>\n",
              "      <td>0.114155</td>\n",
              "      <td>0.056799</td>\n",
              "      <td>43.1</td>\n",
              "    </tr>\n",
              "  </tbody>\n",
              "</table>\n",
              "</div>"
            ],
            "text/plain": [
              "         No  ...  Y house price of unit area\n",
              "0  0.000000  ...                        37.9\n",
              "1  0.002421  ...                        42.2\n",
              "2  0.004843  ...                        47.3\n",
              "3  0.007264  ...                        54.8\n",
              "4  0.009685  ...                        43.1\n",
              "\n",
              "[5 rows x 4 columns]"
            ]
          },
          "metadata": {},
          "execution_count": 16
        }
      ]
    },
    {
      "cell_type": "code",
      "metadata": {
        "colab": {
          "base_uri": "https://localhost:8080/",
          "height": 496
        },
        "id": "DyW6CprIlreM",
        "outputId": "84024d9b-e530-4c92-be7e-ee60f716137b"
      },
      "source": [
        "fig, ax = plt.subplots(figsize=(16,8))\n",
        "ax.scatter(df['Y house price of unit area'], df['X2 house age'])\n",
        "ax.set_xlabel('Y house price of unit area')\n",
        "ax.set_ylabel('X2 house age')\n",
        "plt.show()\n"
      ],
      "execution_count": null,
      "outputs": [
        {
          "output_type": "display_data",
          "data": {
            "image/png": "[encoded data removed]",
            "text/plain": [
              "<Figure size 1152x576 with 1 Axes>"
            ]
          },
          "metadata": {
            "needs_background": "light"
          }
        }
      ]
    },
    {
      "cell_type": "code",
      "metadata": {
        "colab": {
          "base_uri": "https://localhost:8080/",
          "height": 995
        },
        "id": "49Tmnkx9l3wj",
        "outputId": "901b0575-d937-4a27-a403-c5c9535463ba"
      },
      "source": [
        "import matplotlib.pyplot as plt  \n",
        "% matplotlib inline \n",
        "\n",
        "x = df.drop(\"Y house price of unit area\",1)\n",
        "columns_name = list(x.columns)\n",
        "\n",
        "for i in column_name:\n",
        "  df.boxplot(by ='Y house price of unit area', column =[i], grid = False)"
      ],
      "execution_count": null,
      "outputs": [
        {
          "output_type": "stream",
          "name": "stderr",
          "text": [
            "/usr/local/lib/python3.7/dist-packages/numpy/core/_asarray.py:83: VisibleDeprecationWarning: Creating an ndarray from ragged nested sequences (which is a list-or-tuple of lists-or-tuples-or ndarrays with different lengths or shapes) is deprecated. If you meant to do this, you must specify 'dtype=object' when creating the ndarray\n",
            "  return array(a, dtype, copy=False, order=order)\n",
            "/usr/local/lib/python3.7/dist-packages/numpy/core/_asarray.py:83: VisibleDeprecationWarning: Creating an ndarray from ragged nested sequences (which is a list-or-tuple of lists-or-tuples-or ndarrays with different lengths or shapes) is deprecated. If you meant to do this, you must specify 'dtype=object' when creating the ndarray\n",
            "  return array(a, dtype, copy=False, order=order)\n",
            "/usr/local/lib/python3.7/dist-packages/numpy/core/_asarray.py:83: VisibleDeprecationWarning: Creating an ndarray from ragged nested sequences (which is a list-or-tuple of lists-or-tuples-or ndarrays with different lengths or shapes) is deprecated. If you meant to do this, you must specify 'dtype=object' when creating the ndarray\n",
            "  return array(a, dtype, copy=False, order=order)\n"
          ]
        },
        {
          "output_type": "display_data",
          "data": {
            "image/png": "[encoded data removed]",
            "text/plain": [
              "<Figure size 432x288 with 1 Axes>"
            ]
          },
          "metadata": {
            "needs_background": "light"
          }
        },
        {
          "output_type": "display_data",
          "data": {
            "image/png": "[encoded data removed]",
            "text/plain": [
              "<Figure size 432x288 with 1 Axes>"
            ]
          },
          "metadata": {
            "needs_background": "light"
          }
        },
        {
          "output_type": "display_data",
          "data": {
            "image/png": "[encoded data removed]",
            "text/plain": [
              "<Figure size 432x288 with 1 Axes>"
            ]
          },
          "metadata": {
            "needs_background": "light"
          }
        }
      ]
    },
    {
      "cell_type": "code",
      "metadata": {
        "colab": {
          "base_uri": "https://localhost:8080/"
        },
        "id": "p0Dya_gtmJKw",
        "outputId": "48a9b01e-06ea-4f71-b511-33cdb4732af7"
      },
      "source": [
        "Q1 = df.quantile(0.25)\n",
        "Q3 = df.quantile(0.75)\n",
        "IQR = Q3 - Q1\n",
        "print(IQR)"
      ],
      "execution_count": null,
      "outputs": [
        {
          "output_type": "stream",
          "name": "stdout",
          "text": [
            "No                                         0.500000\n",
            "X2 house age                               0.436644\n",
            "X3 distance to the nearest MRT station     0.180204\n",
            "Y house price of unit area                18.900000\n",
            "dtype: float64\n"
          ]
        }
      ]
    },
    {
      "cell_type": "code",
      "metadata": {
        "colab": {
          "base_uri": "https://localhost:8080/"
        },
        "id": "5irKEtqXmLvx",
        "outputId": "d1752231-053e-40ba-b7a1-a05e57517461"
      },
      "source": [
        "print(df.shape)"
      ],
      "execution_count": null,
      "outputs": [
        {
          "output_type": "stream",
          "name": "stdout",
          "text": [
            "(414, 4)\n"
          ]
        }
      ]
    },
    {
      "cell_type": "code",
      "metadata": {
        "colab": {
          "base_uri": "https://localhost:8080/"
        },
        "id": "wzxX4PjNmOWd",
        "outputId": "7ea71426-491a-4509-b47e-4b6ba9fc7036"
      },
      "source": [
        "df_out = df[~((df < (Q1 - 1.5 * IQR)) |(df > (Q3 + 1.5 * IQR))).any(axis=1)]\n",
        "print(df_out.shape)"
      ],
      "execution_count": null,
      "outputs": [
        {
          "output_type": "stream",
          "name": "stdout",
          "text": [
            "(374, 4)\n"
          ]
        }
      ]
    },
    {
      "cell_type": "code",
      "metadata": {
        "colab": {
          "base_uri": "https://localhost:8080/",
          "height": 496
        },
        "id": "5L-0a2PdmQje",
        "outputId": "02cd4288-b13d-4904-e74a-c11387dcd709"
      },
      "source": [
        "fig, ax = plt.subplots(figsize=(16,8))\n",
        "ax.scatter(df_out['Y house price of unit area'], df_out['X2 house age'])\n",
        "ax.set_xlabel('Y house price of unit area')\n",
        "ax.set_ylabel('X2 house age')\n",
        "plt.show()"
      ],
      "execution_count": null,
      "outputs": [
        {
          "output_type": "display_data",
          "data": {
            "image/png": "[encoded data removed]",
            "text/plain": [
              "<Figure size 1152x576 with 1 Axes>"
            ]
          },
          "metadata": {
            "needs_background": "light"
          }
        }
      ]
    },
    {
      "cell_type": "code",
      "metadata": {
        "colab": {
          "base_uri": "https://localhost:8080/",
          "height": 995
        },
        "id": "itU9me32mfHf",
        "outputId": "b992e439-af56-4b31-bfae-c2b256272d83"
      },
      "source": [
        "import matplotlib.pyplot as plt  \n",
        "% matplotlib inline \n",
        "\n",
        "X_fix = df_out.drop(\"Y house price of unit area\",1)\n",
        "y_fix = df_out[\"Y house price of unit area\"]\n",
        "columns_name = list(X_fix.columns)\n",
        "\n",
        "for i in column_name:\n",
        "  df_out.boxplot(by ='Y house price of unit area', column =[i], grid = False)"
      ],
      "execution_count": null,
      "outputs": [
        {
          "output_type": "stream",
          "name": "stderr",
          "text": [
            "/usr/local/lib/python3.7/dist-packages/numpy/core/_asarray.py:83: VisibleDeprecationWarning: Creating an ndarray from ragged nested sequences (which is a list-or-tuple of lists-or-tuples-or ndarrays with different lengths or shapes) is deprecated. If you meant to do this, you must specify 'dtype=object' when creating the ndarray\n",
            "  return array(a, dtype, copy=False, order=order)\n",
            "/usr/local/lib/python3.7/dist-packages/numpy/core/_asarray.py:83: VisibleDeprecationWarning: Creating an ndarray from ragged nested sequences (which is a list-or-tuple of lists-or-tuples-or ndarrays with different lengths or shapes) is deprecated. If you meant to do this, you must specify 'dtype=object' when creating the ndarray\n",
            "  return array(a, dtype, copy=False, order=order)\n",
            "/usr/local/lib/python3.7/dist-packages/numpy/core/_asarray.py:83: VisibleDeprecationWarning: Creating an ndarray from ragged nested sequences (which is a list-or-tuple of lists-or-tuples-or ndarrays with different lengths or shapes) is deprecated. If you meant to do this, you must specify 'dtype=object' when creating the ndarray\n",
            "  return array(a, dtype, copy=False, order=order)\n"
          ]
        },
        {
          "output_type": "display_data",
          "data": {
            "image/png": "[encoded data removed]",
            "text/plain": [
              "<Figure size 432x288 with 1 Axes>"
            ]
          },
          "metadata": {
            "needs_background": "light"
          }
        },
        {
          "output_type": "display_data",
          "data": {
            "image/png": "[encoded data removed]",
            "text/plain": [
              "<Figure size 432x288 with 1 Axes>"
            ]
          },
          "metadata": {
            "needs_background": "light"
          }
        },
        {
          "output_type": "display_data",
          "data": {
            "image/png": "[encoded data removed]",
            "text/plain": [
              "<Figure size 432x288 with 1 Axes>"
            ]
          },
          "metadata": {
            "needs_background": "light"
          }
        }
      ]
    },
    {
      "cell_type": "code",
      "metadata": {
        "id": "6jyueJbs8cWV"
      },
      "source": [
        "\n",
        "X_fix = df_out.drop('Y house price of unit area',1)"
      ],
      "execution_count": null,
      "outputs": []
    },
    {
      "cell_type": "code",
      "metadata": {
        "id": "wolCVHag8m-h",
        "colab": {
          "base_uri": "https://localhost:8080/",
          "height": 414
        },
        "outputId": "5fe3919e-ebe8-440c-c1b9-ff834039233c"
      },
      "source": [
        "X_fix"
      ],
      "execution_count": null,
      "outputs": [
        {
          "output_type": "execute_result",
          "data": {
            "text/html": [
              "<div>\n",
              "<style scoped>\n",
              "    .dataframe tbody tr th:only-of-type {\n",
              "        vertical-align: middle;\n",
              "    }\n",
              "\n",
              "    .dataframe tbody tr th {\n",
              "        vertical-align: top;\n",
              "    }\n",
              "\n",
              "    .dataframe thead th {\n",
              "        text-align: right;\n",
              "    }\n",
              "</style>\n",
              "<table border=\"1\" class=\"dataframe\">\n",
              "  <thead>\n",
              "    <tr style=\"text-align: right;\">\n",
              "      <th></th>\n",
              "      <th>No</th>\n",
              "      <th>X2 house age</th>\n",
              "      <th>X3 distance to the nearest MRT station</th>\n",
              "    </tr>\n",
              "  </thead>\n",
              "  <tbody>\n",
              "    <tr>\n",
              "      <th>0</th>\n",
              "      <td>0.000000</td>\n",
              "      <td>0.730594</td>\n",
              "      <td>0.009513</td>\n",
              "    </tr>\n",
              "    <tr>\n",
              "      <th>1</th>\n",
              "      <td>0.002421</td>\n",
              "      <td>0.445205</td>\n",
              "      <td>0.043809</td>\n",
              "    </tr>\n",
              "    <tr>\n",
              "      <th>2</th>\n",
              "      <td>0.004843</td>\n",
              "      <td>0.303653</td>\n",
              "      <td>0.083315</td>\n",
              "    </tr>\n",
              "    <tr>\n",
              "      <th>3</th>\n",
              "      <td>0.007264</td>\n",
              "      <td>0.303653</td>\n",
              "      <td>0.083315</td>\n",
              "    </tr>\n",
              "    <tr>\n",
              "      <th>4</th>\n",
              "      <td>0.009685</td>\n",
              "      <td>0.114155</td>\n",
              "      <td>0.056799</td>\n",
              "    </tr>\n",
              "    <tr>\n",
              "      <th>...</th>\n",
              "      <td>...</td>\n",
              "      <td>...</td>\n",
              "      <td>...</td>\n",
              "    </tr>\n",
              "    <tr>\n",
              "      <th>408</th>\n",
              "      <td>0.987893</td>\n",
              "      <td>0.422374</td>\n",
              "      <td>0.332944</td>\n",
              "    </tr>\n",
              "    <tr>\n",
              "      <th>410</th>\n",
              "      <td>0.992736</td>\n",
              "      <td>0.127854</td>\n",
              "      <td>0.010375</td>\n",
              "    </tr>\n",
              "    <tr>\n",
              "      <th>411</th>\n",
              "      <td>0.995157</td>\n",
              "      <td>0.429224</td>\n",
              "      <td>0.056861</td>\n",
              "    </tr>\n",
              "    <tr>\n",
              "      <th>412</th>\n",
              "      <td>0.997579</td>\n",
              "      <td>0.184932</td>\n",
              "      <td>0.012596</td>\n",
              "    </tr>\n",
              "    <tr>\n",
              "      <th>413</th>\n",
              "      <td>1.000000</td>\n",
              "      <td>0.148402</td>\n",
              "      <td>0.010375</td>\n",
              "    </tr>\n",
              "  </tbody>\n",
              "</table>\n",
              "<p>374 rows × 3 columns</p>\n",
              "</div>"
            ],
            "text/plain": [
              "           No  X2 house age  X3 distance to the nearest MRT station\n",
              "0    0.000000      0.730594                                0.009513\n",
              "1    0.002421      0.445205                                0.043809\n",
              "2    0.004843      0.303653                                0.083315\n",
              "3    0.007264      0.303653                                0.083315\n",
              "4    0.009685      0.114155                                0.056799\n",
              "..        ...           ...                                     ...\n",
              "408  0.987893      0.422374                                0.332944\n",
              "410  0.992736      0.127854                                0.010375\n",
              "411  0.995157      0.429224                                0.056861\n",
              "412  0.997579      0.184932                                0.012596\n",
              "413  1.000000      0.148402                                0.010375\n",
              "\n",
              "[374 rows x 3 columns]"
            ]
          },
          "metadata": {},
          "execution_count": 26
        }
      ]
    },
    {
      "cell_type": "markdown",
      "metadata": {
        "id": "gR3TD2dfCJwc"
      },
      "source": [
        "###Feature Importance"
      ]
    },
    {
      "cell_type": "markdown",
      "metadata": {
        "id": "AnPIsx0YgZau"
      },
      "source": [
        "Feature selection\n",
        "\n",
        "\n",
        "Dengan cara merangking fiturnya dengan cara tertentu (statisttik, jarak,dll) setelah diperoleh indikatornya yang sangat berpengaruh nilainya, kemudian fitur-fitur yang dianggap kurang dapat di pangkas dengan cara tertentu, atau dengan ambang batas \n",
        "\n",
        "keuntungannya :\n",
        "lebih gampang menghitung ukuran yang dipakai untuk merangking. kebih mudah dan cepat \n",
        "\n",
        "kelemahan :\n",
        "\n",
        "variable penting yang dihapus merupakan hal yang penting, ada juga variable yang tergantung dari variable\" yang telah terpangkas \n"
      ]
    },
    {
      "cell_type": "code",
      "metadata": {
        "id": "7Fb98SC5CdG0"
      },
      "source": [
        "import pandas as pd\n",
        "import numpy as np\n",
        "from sklearn.feature_selection import SelectKBest\n",
        "from sklearn.feature_selection import chi2\n",
        "\n",
        "X = df_out.iloc[:,0:77]  #independent columns\n",
        "y = df_out.iloc[:,-1]    #target column i.e price range#apply SelectKBest class to extract top 10 best features\n",
        "\n",
        "bestfeatures = SelectKBest(score_func=chi2, k=4)\n",
        "\n",
        "fit = bestfeatures.fit(X,y)\n",
        "dfscores = pd.DataFrame(fit.scores_)\n",
        "p_values = pd.DataFrame(fit.pvalues_)\n",
        "dfcolumns = pd.DataFrame(X_fix.columns)\n",
        "\n",
        "#concat two dataframes for better visualization \n",
        "featureScores = pd.concat([dfcolumns,dfscores, p_values],axis=1)\n",
        "featureScores.columns = ['Protein Name','chi-square Score', 'p-values']  #naming the dataframe columns\n",
        "print(featureScores.nlargest(77,'chi-square Score'))  #print 10 best features"
      ],
      "execution_count": null,
      "outputs": []
    },
    {
      "cell_type": "code",
      "metadata": {
        "id": "yKOlS99Yp9a9"
      },
      "source": [
        "ranks = {}\n",
        "# Create our function which stores the feature rankings to the ranks dictionary\n",
        "def ranking(ranks, names, order=1):\n",
        "    minmax = MinMaxScaler()\n",
        "    ranks = minmax.fit_transform(order*np.array([ranks]).T).T[0]\n",
        "    ranks = map(lambda x: round(x,2), ranks)\n",
        "    return dict(zip(names, ranks))"
      ],
      "execution_count": null,
      "outputs": []
    },
    {
      "cell_type": "markdown",
      "metadata": {
        "id": "XrHRKgnzCxSx"
      },
      "source": [
        "* Correlation Matrix with Heatmap"
      ]
    },
    {
      "cell_type": "code",
      "metadata": {
        "colab": {
          "base_uri": "https://localhost:8080/",
          "height": 1000
        },
        "id": "XvTu0SN9ya2H",
        "outputId": "81b5fe34-0e13-4212-e59a-54a2a60e6709"
      },
      "source": [
        "import pandas as pd\n",
        "import numpy as np\n",
        "import seaborn as sns\n",
        "\n",
        "X = df_out.iloc[:,0:77]  #independent columns\n",
        "y = df_out.iloc[:,-1]    #target column i.e price range\n",
        "#get correlations of each features in dataset\n",
        "\n",
        "corrmat = df_out.corr()\n",
        "top_corr_features = corrmat.index\n",
        "plt.figure(figsize=(20,20))\n",
        "#plot heat map\n",
        "g=sns.heatmap(df_out[top_corr_features].corr(),annot=True,cmap=\"Reds\")"
      ],
      "execution_count": null,
      "outputs": [
        {
          "output_type": "display_data",
          "data": {
            "image/png": "[encoded data removed]",
            "text/plain": [
              "<Figure size 1440x1440 with 2 Axes>"
            ]
          },
          "metadata": {
            "needs_background": "light"
          }
        }
      ]
    },
    {
      "cell_type": "markdown",
      "metadata": {
        "id": "Be6hcFZb62WF"
      },
      "source": [
        "## **Feature Extraction**"
      ]
    },
    {
      "cell_type": "markdown",
      "metadata": {
        "id": "PPhMX5x1fvM4"
      },
      "source": [
        "Metode dengan mentransformasi dari pasangan bilangan, dengan mengubah dimensi dengan cara ekstraksi (kombinasi linear, dll).\n",
        "\n",
        "Membuat fitur baru dengan Mengkombinasikan future lama dengan dimensi yang lebih sedikit dibandingkan dengan sebelumnya. future ini untuk menghindari hilangnya informasi data \n"
      ]
    },
    {
      "cell_type": "code",
      "metadata": {
        "id": "ieT-Rcca6wR9"
      },
      "source": [
        " import numpy as np\n",
        " import matplotlib.pyplot as plt\n",
        " from matplotlib import offsetbox\n",
        " from sklearn import manifold, datasets, decomposition, discriminant_analysis\n",
        "\n",
        " digits = datasets.load_digits()\n",
        "\n",
        " X = digits.data\n",
        " y = digits.target\n",
        "\n",
        " n_samples, n_features = X.shape"
      ],
      "execution_count": null,
      "outputs": []
    },
    {
      "cell_type": "markdown",
      "metadata": {
        "id": "SdNP6Qz0C67A"
      },
      "source": [
        "* LDA\n",
        "\n",
        "\n",
        "Import menggunakan discriminant analysis daei modul skaller. Kemudian Buat variable lda untuk tentukan parameter untuk komponennya dan menetukan batasnya.\n",
        "Hasilnya akan di representasikan oleh data frame. Nilainya akan berbeda dengan nilai asli \n"
      ]
    },
    {
      "cell_type": "code",
      "metadata": {
        "id": "PX_EXhCf6-Di"
      },
      "source": [
        " def embedding_plot(X, title):\n",
        "     x_min, x_max = np.min(X, axis=0), np.max(X, axis=0)\n",
        "     X = (X - x_min) / (x_max - x_min)\n",
        "     plt.figure()\n",
        "     ax = plt.subplot(aspect='equal')\n",
        "     sc = ax.scatter(X[:,0], X[:,1], lw=0, s=40, c=y/10.)\n",
        "     shown_images = np.array([[1., 1.]])\n",
        "     for i in range(X.shape[0]):\n",
        "         if np.min(np.sum((X[i] - shown_images) ** 2, axis=1)) < 1e-2: continue\n",
        "         shown_images = np.r_[shown_images, [X[i]]]\n",
        "         ax.add_artist(offsetbox.AnnotationBbox(offsetbox.OffsetImage(digits.images[i], cmap=plt.cm.gray_r), X[i]))\n",
        "     plt.xticks([]), plt.yticks([])\n",
        "     plt.title(title)"
      ],
      "execution_count": null,
      "outputs": []
    },
    {
      "cell_type": "code",
      "metadata": {
        "colab": {
          "base_uri": "https://localhost:8080/",
          "height": 267
        },
        "id": "jqHjzZWd6_z_",
        "outputId": "4f79209a-00b5-4dea-dfab-f798287d831c"
      },
      "source": [
        " X_lda = discriminant_analysis.LinearDiscriminantAnalysis(n_components=2).fit_transform(X, y)\n",
        " embedding_plot(X_lda, \"LDA\")\n",
        " plt.show()"
      ],
      "execution_count": null,
      "outputs": [
        {
          "output_type": "display_data",
          "data": {
            "image/png": "[encoded data removed]",
            "text/plain": [
              "<Figure size 432x288 with 1 Axes>"
            ]
          },
          "metadata": {}
        }
      ]
    },
    {
      "cell_type": "code",
      "metadata": {
        "colab": {
          "base_uri": "https://localhost:8080/"
        },
        "id": "ZttAKVnT7BQV",
        "outputId": "933b736b-0b70-41d0-b5b5-e90d4568fba9"
      },
      "source": [
        " X_lda"
      ],
      "execution_count": null,
      "outputs": [
        {
          "output_type": "execute_result",
          "data": {
            "text/plain": [
              "array([[-2.0146322 , -5.62348616],\n",
              "       [ 0.2209674 ,  3.59240033],\n",
              "       [ 2.23485453,  2.70950363],\n",
              "       ...,\n",
              "       [-1.04697178,  1.48367733],\n",
              "       [ 0.40787292, -1.99167301],\n",
              "       [ 0.17414501,  0.88717463]])"
            ]
          },
          "metadata": {},
          "execution_count": 33
        }
      ]
    },
    {
      "cell_type": "code",
      "metadata": {
        "colab": {
          "base_uri": "https://localhost:8080/",
          "height": 202
        },
        "id": "MX-e3KJl7DUy",
        "outputId": "9928f192-b5e3-4a4a-e7e2-722f095db58d"
      },
      "source": [
        "#first reduxe de dimensin\n",
        "from sklearn import manifold, datasets, decomposition, discriminant_analysis\n",
        "\n",
        "lda = discriminant_analysis.LinearDiscriminantAnalysis(n_components=2).fit_transform(X, y)\n",
        "\n",
        "lda_df = pd.DataFrame(data = lda\n",
        "             , columns = ['new_var1', 'new_var2'])\n",
        "finalDf = pd.concat([lda_df, y_fix], axis = 1)\n",
        "finalDf.head()"
      ],
      "execution_count": null,
      "outputs": [
        {
          "output_type": "execute_result",
          "data": {
            "text/html": [
              "<div>\n",
              "<style scoped>\n",
              "    .dataframe tbody tr th:only-of-type {\n",
              "        vertical-align: middle;\n",
              "    }\n",
              "\n",
              "    .dataframe tbody tr th {\n",
              "        vertical-align: top;\n",
              "    }\n",
              "\n",
              "    .dataframe thead th {\n",
              "        text-align: right;\n",
              "    }\n",
              "</style>\n",
              "<table border=\"1\" class=\"dataframe\">\n",
              "  <thead>\n",
              "    <tr style=\"text-align: right;\">\n",
              "      <th></th>\n",
              "      <th>new_var1</th>\n",
              "      <th>new_var2</th>\n",
              "      <th>Y house price of unit area</th>\n",
              "    </tr>\n",
              "  </thead>\n",
              "  <tbody>\n",
              "    <tr>\n",
              "      <th>0</th>\n",
              "      <td>-2.014632</td>\n",
              "      <td>-5.623486</td>\n",
              "      <td>37.9</td>\n",
              "    </tr>\n",
              "    <tr>\n",
              "      <th>1</th>\n",
              "      <td>0.220967</td>\n",
              "      <td>3.592400</td>\n",
              "      <td>42.2</td>\n",
              "    </tr>\n",
              "    <tr>\n",
              "      <th>2</th>\n",
              "      <td>2.234855</td>\n",
              "      <td>2.709504</td>\n",
              "      <td>47.3</td>\n",
              "    </tr>\n",
              "    <tr>\n",
              "      <th>3</th>\n",
              "      <td>2.760965</td>\n",
              "      <td>-0.624427</td>\n",
              "      <td>54.8</td>\n",
              "    </tr>\n",
              "    <tr>\n",
              "      <th>4</th>\n",
              "      <td>-5.845449</td>\n",
              "      <td>1.754015</td>\n",
              "      <td>43.1</td>\n",
              "    </tr>\n",
              "  </tbody>\n",
              "</table>\n",
              "</div>"
            ],
            "text/plain": [
              "   new_var1  new_var2  Y house price of unit area\n",
              "0 -2.014632 -5.623486                        37.9\n",
              "1  0.220967  3.592400                        42.2\n",
              "2  2.234855  2.709504                        47.3\n",
              "3  2.760965 -0.624427                        54.8\n",
              "4 -5.845449  1.754015                        43.1"
            ]
          },
          "metadata": {},
          "execution_count": 34
        }
      ]
    },
    {
      "cell_type": "code",
      "metadata": {
        "colab": {
          "base_uri": "https://localhost:8080/",
          "height": 523
        },
        "id": "G3W417rQ7K6b",
        "outputId": "a3f5a13a-10b0-4e51-97cb-0928afdbb766"
      },
      "source": [
        "fig = plt.figure(figsize = (8,8))\n",
        "ax = fig.add_subplot(1,1,1) \n",
        "ax.set_xlabel('New Var1', fontsize = 15)\n",
        "ax.set_ylabel('New Var2', fontsize = 15)\n",
        "ax.set_title('2 component LDA', fontsize = 20)\n",
        "targets = [1.0,2.0]\n",
        "colors = ['orange', 'black']\n",
        "for target, color in zip(targets,colors):\n",
        "    indicesToKeep = finalDf['Y house price of unit area'] == target\n",
        "    ax.scatter(finalDf.loc[indicesToKeep, 'new_var1']\n",
        "               , finalDf.loc[indicesToKeep, 'new_var2']\n",
        "               , c = color\n",
        "               , s = 50)\n",
        "ax.legend([\"Memantine\", \"Saline\"])\n",
        "ax.grid()"
      ],
      "execution_count": null,
      "outputs": [
        {
          "output_type": "display_data",
          "data": {
            "image/png": "[encoded data removed]",
            "text/plain": [
              "<Figure size 576x576 with 1 Axes>"
            ]
          },
          "metadata": {
            "needs_background": "light"
          }
        }
      ]
    },
    {
      "cell_type": "markdown",
      "metadata": {
        "id": "JtxxpO3LDDAl"
      },
      "source": [
        "* PCA\n",
        "\n",
        "PCA bekerja untuk menghitung variance dari tiap atribut\n",
        "\n",
        "Dibuatkan variable. dengan menggunkana metode yang berbeda "
      ]
    },
    {
      "cell_type": "code",
      "metadata": {
        "colab": {
          "base_uri": "https://localhost:8080/",
          "height": 202
        },
        "id": "uV2QiNTbz35J",
        "outputId": "8c635581-42f1-432b-cc98-a42a5d6bcf70"
      },
      "source": [
        "#first reduxe de dimensin\n",
        "from sklearn.decomposition import PCA\n",
        "\n",
        "pca = PCA(n_components=2)\n",
        "principalComponents = pca.fit_transform(X_fix)\n",
        "principalDf = pd.DataFrame(data = principalComponents\n",
        "             , columns = ['principal component 1', 'principal component 2'])\n",
        "finalDf = pd.concat([principalDf, y_fix], axis = 1)\n",
        "finalDf.head()"
      ],
      "execution_count": null,
      "outputs": [
        {
          "output_type": "execute_result",
          "data": {
            "text/html": [
              "<div>\n",
              "<style scoped>\n",
              "    .dataframe tbody tr th:only-of-type {\n",
              "        vertical-align: middle;\n",
              "    }\n",
              "\n",
              "    .dataframe tbody tr th {\n",
              "        vertical-align: top;\n",
              "    }\n",
              "\n",
              "    .dataframe thead th {\n",
              "        text-align: right;\n",
              "    }\n",
              "</style>\n",
              "<table border=\"1\" class=\"dataframe\">\n",
              "  <thead>\n",
              "    <tr style=\"text-align: right;\">\n",
              "      <th></th>\n",
              "      <th>principal component 1</th>\n",
              "      <th>principal component 2</th>\n",
              "      <th>Y house price of unit area</th>\n",
              "    </tr>\n",
              "  </thead>\n",
              "  <tbody>\n",
              "    <tr>\n",
              "      <th>0</th>\n",
              "      <td>0.552738</td>\n",
              "      <td>0.251825</td>\n",
              "      <td>37.9</td>\n",
              "    </tr>\n",
              "    <tr>\n",
              "      <th>1</th>\n",
              "      <td>0.504467</td>\n",
              "      <td>-0.030388</td>\n",
              "      <td>42.2</td>\n",
              "    </tr>\n",
              "    <tr>\n",
              "      <th>2</th>\n",
              "      <td>0.478611</td>\n",
              "      <td>-0.170748</td>\n",
              "      <td>47.3</td>\n",
              "    </tr>\n",
              "    <tr>\n",
              "      <th>3</th>\n",
              "      <td>0.476221</td>\n",
              "      <td>-0.170366</td>\n",
              "      <td>54.8</td>\n",
              "    </tr>\n",
              "    <tr>\n",
              "      <th>4</th>\n",
              "      <td>0.444919</td>\n",
              "      <td>-0.356367</td>\n",
              "      <td>43.1</td>\n",
              "    </tr>\n",
              "  </tbody>\n",
              "</table>\n",
              "</div>"
            ],
            "text/plain": [
              "   principal component 1  principal component 2  Y house price of unit area\n",
              "0               0.552738               0.251825                        37.9\n",
              "1               0.504467              -0.030388                        42.2\n",
              "2               0.478611              -0.170748                        47.3\n",
              "3               0.476221              -0.170366                        54.8\n",
              "4               0.444919              -0.356367                        43.1"
            ]
          },
          "metadata": {},
          "execution_count": 39
        }
      ]
    },
    {
      "cell_type": "code",
      "metadata": {
        "colab": {
          "base_uri": "https://localhost:8080/",
          "height": 523
        },
        "id": "l98NGVHbz9af",
        "outputId": "637a6ae1-30fe-41c2-e4db-8de3cc0f9fdc"
      },
      "source": [
        "fig = plt.figure(figsize = (8,8))\n",
        "ax = fig.add_subplot(1,1,1) \n",
        "ax.set_xlabel('Principal Component 1', fontsize = 15)\n",
        "ax.set_ylabel('Principal Component 2', fontsize = 15)\n",
        "ax.set_title('2 component PCA', fontsize = 20)\n",
        "targets = [1.0,2.0]\n",
        "colors = ['c', 'm']\n",
        "for target, color in zip(targets,colors):\n",
        "    indicesToKeep = finalDf['Y house price of unit area'] == target\n",
        "    ax.scatter(finalDf.loc[indicesToKeep, 'principal component 1']\n",
        "               , finalDf.loc[indicesToKeep, 'principal component 2']\n",
        "               , c = color\n",
        "               , s = 50)\n",
        "ax.legend([\"4\", \"1\"])\n",
        "ax.grid()"
      ],
      "execution_count": null,
      "outputs": [
        {
          "output_type": "display_data",
          "data": {
            "image/png": "[encoded data removed]",
            "text/plain": [
              "<Figure size 576x576 with 1 Axes>"
            ]
          },
          "metadata": {
            "needs_background": "light"
          }
        }
      ]
    },
    {
      "cell_type": "code",
      "metadata": {
        "id": "s1aPbXckysCP"
      },
      "source": [
        "from sklearn.manifold import TSNE\n",
        "tsne = TSNE(n_components=2, random_state=0)"
      ],
      "execution_count": null,
      "outputs": []
    },
    {
      "cell_type": "code",
      "metadata": {
        "id": "7WdtLc7eyunH"
      },
      "source": [
        "\n",
        "X_2d = tsne.fit_transform(X_fix)"
      ],
      "execution_count": null,
      "outputs": []
    },
    {
      "cell_type": "code",
      "metadata": {
        "colab": {
          "base_uri": "https://localhost:8080/"
        },
        "id": "jBqkcCrJyxHD",
        "outputId": "72d7e057-ed3f-49a9-a765-f17c5ec40331"
      },
      "source": [
        "print(X_2d)"
      ],
      "execution_count": null,
      "outputs": [
        {
          "output_type": "stream",
          "name": "stdout",
          "text": [
            "[[-5.57628489e+00  2.37014027e+01]\n",
            " [ 1.52804222e+01  7.05533886e+00]\n",
            " [ 1.60635071e+01  4.82918978e+00]\n",
            " [ 1.56559668e+01  4.63910198e+00]\n",
            " [ 1.94050732e+01  4.98342842e-01]\n",
            " [ 1.41895714e+01  4.58382457e-01]\n",
            " [-5.88842773e+00  2.30310822e+01]\n",
            " [ 1.48493958e+01  7.37978506e+00]\n",
            " [ 1.34117928e+01  2.98948717e+00]\n",
            " [-6.42313623e+00  2.37518749e+01]\n",
            " [ 1.89520817e+01  9.92737174e-01]\n",
            " [ 1.57885399e+01  4.30861902e+00]\n",
            " [ 1.26870108e+01  2.98690343e+00]\n",
            " [ 1.48037519e+01  3.30024052e+00]\n",
            " [-6.52830887e+00  2.32956696e+01]\n",
            " [ 2.04147129e+01 -1.04769897e+00]\n",
            " [ 1.49296618e+01  6.45113659e+00]\n",
            " [ 1.51784773e+01  5.98205233e+00]\n",
            " [ 2.02040405e+01 -4.43316877e-01]\n",
            " [ 1.41576424e+01  1.57289654e-01]\n",
            " [ 1.68909264e+01  3.57925701e+00]\n",
            " [ 1.42419376e+01  3.03571057e+00]\n",
            " [ 1.72268200e+01  2.92372537e+00]\n",
            " [-7.79943132e+00  2.39365883e+01]\n",
            " [-4.51020336e+00  2.14614525e+01]\n",
            " [ 1.94380989e+01 -3.92236203e-01]\n",
            " [ 1.67620945e+01  3.11002684e+00]\n",
            " [ 1.41478567e+01  6.92874289e+00]\n",
            " [ 1.82052441e+01  8.04251909e-01]\n",
            " [-5.37407064e+00  2.20196991e+01]\n",
            " [-7.46520329e+00  2.35330505e+01]\n",
            " [ 1.43521929e+01  5.96175528e+00]\n",
            " [ 1.45089712e+01  5.35836601e+00]\n",
            " [ 1.32856121e+01  2.12393069e+00]\n",
            " [ 1.42191582e+01  2.21804309e+00]\n",
            " [ 1.93225384e+01 -9.21222448e-01]\n",
            " [ 1.39609108e+01  5.81683731e+00]\n",
            " [-7.19128036e+00  2.28310299e+01]\n",
            " [-6.58018827e+00  2.22642345e+01]\n",
            " [ 1.95683441e+01 -1.44789720e+00]\n",
            " [-7.80176926e+00  2.28665695e+01]\n",
            " [ 1.37741861e+01  7.68110561e+00]\n",
            " [-7.23611069e+00  2.24451656e+01]\n",
            " [ 1.35322142e+01  7.63328600e+00]\n",
            " [-4.59515619e+00  2.08218079e+01]\n",
            " [-5.12617874e+00  2.09857121e+01]\n",
            " [ 1.32137661e+01  4.77345991e+00]\n",
            " [ 1.32248135e+01  5.82417536e+00]\n",
            " [-5.66464710e+00  2.11158447e+01]\n",
            " [-6.96720886e+00  2.16671619e+01]\n",
            " [ 1.87427959e+01 -1.78281832e+00]\n",
            " [ 1.26567993e+01  4.87597895e+00]\n",
            " [ 1.29129667e+01  8.18792462e-01]\n",
            " [ 1.82454224e+01 -1.19696832e+00]\n",
            " [ 1.23387852e+01  2.40807915e+00]\n",
            " [ 1.92239075e+01 -2.20893884e+00]\n",
            " [ 1.13524599e+01  6.03153658e+00]\n",
            " [-9.01281261e+00  2.30934963e+01]\n",
            " [ 1.93331013e+01 -2.88934708e+00]\n",
            " [ 1.70359268e+01 -6.16935968e-01]\n",
            " [-6.82528687e+00  2.05645580e+01]\n",
            " [ 1.19651871e+01  4.40157986e+00]\n",
            " [ 1.75472298e+01 -1.42581940e+00]\n",
            " [-7.81721306e+00  2.17844467e+01]\n",
            " [-7.40350676e+00  2.09081593e+01]\n",
            " [ 1.73590240e+01 -1.32473850e+00]\n",
            " [ 1.20426435e+01  6.68048620e-01]\n",
            " [-8.21990299e+00  2.17323780e+01]\n",
            " [ 9.28497314e+00  7.36297894e+00]\n",
            " [-8.84332466e+00  2.22520790e+01]\n",
            " [ 1.03444185e+01  6.05394697e+00]\n",
            " [ 1.14309750e+01  3.94013500e+00]\n",
            " [-7.41842556e+00  2.00990696e+01]\n",
            " [ 1.06738939e+01  3.72807026e+00]\n",
            " [ 8.69554234e+00  8.09542847e+00]\n",
            " [ 1.01281300e+01  4.16789389e+00]\n",
            " [ 1.88567600e+01 -3.75232387e+00]\n",
            " [ 1.29723463e+01 -2.69150066e+00]\n",
            " [ 1.19659100e+01 -4.57497776e-01]\n",
            " [ 1.89955502e+01 -4.17962360e+00]\n",
            " [ 1.18706064e+01 -4.67150033e-01]\n",
            " [ 9.00824928e+00  7.60839891e+00]\n",
            " [-6.23021936e+00  1.98545990e+01]\n",
            " [-1.00344505e+01  2.21578274e+01]\n",
            " [ 1.64274635e+01 -1.84325790e+00]\n",
            " [ 1.69800568e+01 -2.37355208e+00]\n",
            " [-7.30585337e+00  1.88970394e+01]\n",
            " [ 8.90265751e+00  3.79073000e+00]\n",
            " [ 1.68400173e+01 -2.58012486e+00]\n",
            " [ 8.65133381e+00  5.05814695e+00]\n",
            " [ 9.71356678e+00  2.79134941e+00]\n",
            " [ 1.80181122e+01 -4.38566923e+00]\n",
            " [ 1.87674770e+01 -4.94213486e+00]\n",
            " [-8.43996239e+00  1.99897232e+01]\n",
            " [ 1.83053722e+01 -4.88417530e+00]\n",
            " [ 8.12887573e+00  3.77511239e+00]\n",
            " [ 1.10132904e+01 -1.66940749e-01]\n",
            " [-7.97902346e+00  1.93443794e+01]\n",
            " [ 1.18516941e+01 -2.64485669e+00]\n",
            " [ 1.59903078e+01 -2.52351284e+00]\n",
            " [-9.11718845e+00  1.98617935e+01]\n",
            " [ 1.12045746e+01 -1.60638630e+00]\n",
            " [ 8.46186638e+00  2.80122161e+00]\n",
            " [-8.50890541e+00  1.89033108e+01]\n",
            " [ 6.58570576e+00  4.47383165e+00]\n",
            " [ 7.20112276e+00  8.21304989e+00]\n",
            " [ 7.62265825e+00  3.19072771e+00]\n",
            " [ 8.49218941e+00  1.79137790e+00]\n",
            " [ 8.20606327e+00  1.96415293e+00]\n",
            " [-8.96938038e+00  1.89200859e+01]\n",
            " [ 1.81475182e+01 -5.79523993e+00]\n",
            " [ 9.14306831e+00  5.56491077e-01]\n",
            " [ 1.75378551e+01 -5.55971909e+00]\n",
            " [-1.05219374e+01  2.10228119e+01]\n",
            " [ 1.65269604e+01 -5.39285612e+00]\n",
            " [-1.13912659e+01  2.12576771e+01]\n",
            " [-1.10191479e+01  2.05741215e+01]\n",
            " [-8.75436497e+00  1.80272236e+01]\n",
            " [ 1.14623156e+01 -2.92815065e+00]\n",
            " [-8.52297020e+00  1.72778854e+01]\n",
            " [ 6.63750172e+00  3.14166975e+00]\n",
            " [-9.99864006e+00  1.91067829e+01]\n",
            " [ 5.82714987e+00  3.84662914e+00]\n",
            " [ 8.19204998e+00  5.49014330e-01]\n",
            " [ 7.51850700e+00  1.51586497e+00]\n",
            " [ 8.49169731e+00 -1.06382358e+00]\n",
            " [ 7.59085178e+00  8.46400738e-01]\n",
            " [ 6.78490162e+00  2.30982924e+00]\n",
            " [ 1.11171322e+01 -3.14784122e+00]\n",
            " [ 5.59128094e+00  3.25714231e+00]\n",
            " [ 7.02134609e+00  1.01650143e+00]\n",
            " [ 7.99921083e+00 -2.00693703e+00]\n",
            " [ 1.67369690e+01 -6.36186171e+00]\n",
            " [ 1.75882282e+01 -6.62614536e+00]\n",
            " [ 1.61676407e+01 -6.29387665e+00]\n",
            " [-1.10297394e+01  1.89424076e+01]\n",
            " [-1.13951721e+01  1.93022804e+01]\n",
            " [ 1.54544554e+01 -6.42793322e+00]\n",
            " [ 7.60604239e+00 -2.22549224e+00]\n",
            " [ 1.47469511e+01 -6.42402124e+00]\n",
            " [-1.00169992e+01  1.54482355e+01]\n",
            " [ 5.44854307e+00  1.12256682e+00]\n",
            " [ 6.97685289e+00 -1.50094748e-01]\n",
            " [ 5.52509356e+00  5.65541863e-01]\n",
            " [ 1.60290070e+01 -7.12334919e+00]\n",
            " [ 4.96640825e+00  2.44543529e+00]\n",
            " [ 1.35928154e+01 -6.65335751e+00]\n",
            " [ 1.72083912e+01 -7.32817268e+00]\n",
            " [ 6.63573885e+00 -2.20325255e+00]\n",
            " [ 1.69280472e+01 -7.55550241e+00]\n",
            " [-1.00896826e+01  1.68886299e+01]\n",
            " [-9.85382271e+00  1.65715256e+01]\n",
            " [ 8.60097885e+00 -4.16965103e+00]\n",
            " [ 1.56458302e+01 -7.53751278e+00]\n",
            " [ 1.42520447e+01 -7.22665358e+00]\n",
            " [-1.32846184e+01  1.96144314e+01]\n",
            " [ 1.51584568e+01 -7.49521208e+00]\n",
            " [-1.09354639e+01  1.66585751e+01]\n",
            " [-1.18258667e+01  1.75390320e+01]\n",
            " [ 5.98521566e+00 -2.69599652e+00]\n",
            " [ 4.25778723e+00 -1.31657612e+00]\n",
            " [ 5.09560251e+00 -1.30884957e+00]\n",
            " [ 7.19005442e+00 -4.74122620e+00]\n",
            " [ 7.51110601e+00 -5.28165960e+00]\n",
            " [-1.07007980e+01  1.49623480e+01]\n",
            " [-1.60551393e+00 -1.36443388e+00]\n",
            " [ 7.95024681e+00 -6.06686211e+00]\n",
            " [-1.26260490e+01  1.77796612e+01]\n",
            " [-1.32716589e+01  1.78943958e+01]\n",
            " [ 4.29025650e+00 -2.48786378e+00]\n",
            " [-1.41412067e+01  1.96344643e+01]\n",
            " [ 1.06495075e+01 -6.87826061e+00]\n",
            " [ 3.15271497e+00 -1.94913399e+00]\n",
            " [ 7.65289366e-01  1.32867619e-01]\n",
            " [-1.29596195e+01  1.71690350e+01]\n",
            " [-1.28247719e+01  1.68636322e+01]\n",
            " [ 1.87382352e+00 -1.28401613e+00]\n",
            " [ 8.09521019e-01 -2.10041738e+00]\n",
            " [ 3.51226711e+00 -2.89956403e+00]\n",
            " [-1.41527624e+01  1.82598724e+01]\n",
            " [ 2.54943728e+00 -2.29885578e+00]\n",
            " [-5.51044762e-01 -2.14021492e+00]\n",
            " [ 5.35845327e+00 -4.81608391e+00]\n",
            " [ 9.24733996e-01 -1.82109818e-01]\n",
            " [-1.45311937e+01  1.81597881e+01]\n",
            " [ 5.30255604e+00 -5.29883909e+00]\n",
            " [-1.36356306e+01  1.69287758e+01]\n",
            " [ 8.91522408e+00 -1.29069309e+01]\n",
            " [ 9.34506607e+00 -1.42648926e+01]\n",
            " [-1.28162730e+00 -2.12533355e+00]\n",
            " [ 8.95662498e+00 -1.26496820e+01]\n",
            " [-1.36422014e+00 -2.13996863e+00]\n",
            " [ 1.23685741e+00 -1.14563763e+00]\n",
            " [-1.46000051e+01  1.75334358e+01]\n",
            " [-1.24030905e+01  1.50142508e+01]\n",
            " [ 2.31549597e+00 -3.96784425e+00]\n",
            " [-1.28551216e+01  1.49569979e+01]\n",
            " [ 5.48186207e+00 -6.27844286e+00]\n",
            " [-1.32559729e+01  1.53293371e+01]\n",
            " [ 5.43836212e+00 -6.31546021e+00]\n",
            " [-1.42102957e+01  1.64225216e+01]\n",
            " [ 8.60593605e+00 -1.44749804e+01]\n",
            " [-1.38288670e+01  1.57396879e+01]\n",
            " [ 7.64403725e+00 -6.43820429e+00]\n",
            " [-1.35893230e+01  1.38343477e+01]\n",
            " [ 6.60371256e+00 -8.40995693e+00]\n",
            " [-1.54360094e+01  1.75481167e+01]\n",
            " [ 6.41051006e+00 -7.54688358e+00]\n",
            " [ 1.27519941e+00 -5.94013786e+00]\n",
            " [ 7.95536661e+00 -1.38988123e+01]\n",
            " [ 1.59198964e+00 -5.09630871e+00]\n",
            " [ 1.72880650e+00 -5.23117304e+00]\n",
            " [-1.71417129e+00 -4.60737324e+00]\n",
            " [ 5.37016106e+00 -6.72893763e+00]\n",
            " [ 7.46447146e-01 -6.10791636e+00]\n",
            " [ 6.65060616e+00 -9.02711678e+00]\n",
            " [-1.46770678e+01  1.53743429e+01]\n",
            " [ 5.89113045e+00 -8.85930729e+00]\n",
            " [ 7.26483297e+00 -1.28091497e+01]\n",
            " [-4.58328187e-01 -5.83673382e+00]\n",
            " [-2.93061137e+00 -4.14754248e+00]\n",
            " [-2.57078266e+00 -4.69091892e+00]\n",
            " [-1.59742460e+01  1.67696781e+01]\n",
            " [-1.43399210e+01  1.34530087e+01]\n",
            " [ 6.93986607e+00 -1.39930906e+01]\n",
            " [-1.40520639e+01  1.26140432e+01]\n",
            " [ 7.52016640e+00 -1.49765520e+01]\n",
            " [ 3.95453200e-02 -6.84922361e+00]\n",
            " [-1.20848358e+00 -6.26687574e+00]\n",
            " [ 7.64440107e+00 -1.54775753e+01]\n",
            " [-2.28950596e+00 -5.50333261e+00]\n",
            " [-5.47048092e+00 -6.06515598e+00]\n",
            " [-7.15061855e+00 -6.60970068e+00]\n",
            " [-7.09307730e-01 -7.07120562e+00]\n",
            " [ 6.35338306e+00 -9.10656166e+00]\n",
            " [-1.56581030e+01  1.42841034e+01]\n",
            " [-1.78501809e+00 -5.98693800e+00]\n",
            " [-6.41032934e+00 -6.67024088e+00]\n",
            " [-1.63564053e+01  1.47586546e+01]\n",
            " [-1.50078857e+00 -7.10086441e+00]\n",
            " [-2.64212584e+00 -5.99423790e+00]\n",
            " [-1.96617556e+00 -7.00647402e+00]\n",
            " [-6.88967630e-02 -8.00597191e+00]\n",
            " [-1.38884991e-01 -8.53120422e+00]\n",
            " [-1.59327993e+01  1.11350451e+01]\n",
            " [ 6.71329212e+00 -1.55964718e+01]\n",
            " [-2.68076277e+00 -6.97595835e+00]\n",
            " [-7.54203463e+00 -7.10124731e+00]\n",
            " [ 6.93692970e+00 -1.61823997e+01]\n",
            " [ 6.07337999e+00 -1.00163765e+01]\n",
            " [ 6.27723265e+00 -1.56928139e+01]\n",
            " [ 5.78561592e+00 -1.50016041e+01]\n",
            " [ 6.07116318e+00 -1.02610149e+01]\n",
            " [-1.43812218e+01  1.19127579e+01]\n",
            " [-1.19438744e+00 -8.41426945e+00]\n",
            " [-1.61419525e+01  1.24952812e+01]\n",
            " [ 5.07580948e+00 -1.52299252e+01]\n",
            " [-2.92908907e+00 -7.56423521e+00]\n",
            " [-1.87950814e+00 -8.28370857e+00]\n",
            " [-9.76126432e-01 -9.14195347e+00]\n",
            " [-1.79650021e+01  1.47603960e+01]\n",
            " [ 5.55964899e+00 -1.59019537e+01]\n",
            " [-2.48030829e+00 -8.26055813e+00]\n",
            " [-6.95056319e-01 -9.75225258e+00]\n",
            " [-1.64705429e+01  1.05133619e+01]\n",
            " [-7.70611191e+00 -7.79207850e+00]\n",
            " [-5.20896244e+00 -9.74215221e+00]\n",
            " [-1.76840897e+01  1.38547392e+01]\n",
            " [-1.76835403e+01  1.32416821e+01]\n",
            " [ 5.48871469e+00 -1.65087395e+01]\n",
            " [-1.85649853e+01  1.43945417e+01]\n",
            " [-8.09228134e+00 -8.32167625e+00]\n",
            " [-1.88365936e+01  1.44862480e+01]\n",
            " [-6.93248653e+00 -8.11361885e+00]\n",
            " [-2.18036294e+00 -9.33105183e+00]\n",
            " [-1.56892681e+00 -1.00486250e+01]\n",
            " [-9.49604225e+00 -1.46963301e+01]\n",
            " [-2.46857429e+00 -9.51364040e+00]\n",
            " [-1.66698418e+01  1.19315100e+01]\n",
            " [-7.10361814e+00 -9.09684277e+00]\n",
            " [-3.70302653e+00 -8.10978317e+00]\n",
            " [ 2.80421019e+00 -1.53528547e+01]\n",
            " [ 4.49392653e+00 -1.67978687e+01]\n",
            " [-7.52499390e+00 -9.41210365e+00]\n",
            " [-1.71259594e+00 -1.07972975e+01]\n",
            " [-3.61815715e+00 -1.03431215e+01]\n",
            " [ 3.27284455e+00 -1.58951178e+01]\n",
            " [-1.85999813e+01  1.30562992e+01]\n",
            " [-4.41413212e+00 -1.04073792e+01]\n",
            " [-1.66234577e+00 -1.13679609e+01]\n",
            " [-1.78487968e+01  1.05296335e+01]\n",
            " [-7.44953489e+00 -1.04942827e+01]\n",
            " [-1.91829472e+01  1.34876108e+01]\n",
            " [ 3.56576300e+00 -1.68466854e+01]\n",
            " [ 4.24723577e+00 -1.74467163e+01]\n",
            " [-6.98882484e+00 -1.00507269e+01]\n",
            " [-1.75068703e+01  1.19679556e+01]\n",
            " [-1.98996830e+01  1.40559845e+01]\n",
            " [ 2.17391992e+00 -1.60083351e+01]\n",
            " [-1.75902729e+01  1.14583931e+01]\n",
            " [-1.81311779e+01  1.01935434e+01]\n",
            " [-1.12018776e+01 -1.50219936e+01]\n",
            " [-1.84080162e+01  1.15606956e+01]\n",
            " [-1.88548737e+01  1.12387247e+01]\n",
            " [ 3.71682692e+00 -1.81347923e+01]\n",
            " [-1.92719688e+01  1.22600279e+01]\n",
            " [-3.53857827e+00 -1.22131224e+01]\n",
            " [ 2.45224762e+00 -1.68517876e+01]\n",
            " [-1.90202789e+01  1.21674099e+01]\n",
            " [-1.42059107e+01  1.09328270e+01]\n",
            " [ 3.84465981e+00 -1.88827877e+01]\n",
            " [-7.81517744e+00 -1.10635443e+01]\n",
            " [ 2.66903758e+00 -1.74507103e+01]\n",
            " [ 1.48739624e+00 -1.64654408e+01]\n",
            " [-3.07626486e+00 -1.29947701e+01]\n",
            " [-1.14102316e+01 -1.46174393e+01]\n",
            " [-9.53360081e+00 -9.71836567e+00]\n",
            " [-1.14364080e+01 -1.45719528e+01]\n",
            " [-7.32329798e+00 -1.17628613e+01]\n",
            " [ 2.66749382e+00 -1.79839382e+01]\n",
            " [ 5.97382197e-03 -1.58286591e+01]\n",
            " [ 3.35099721e+00 -1.92635040e+01]\n",
            " [ 2.92619181e+00 -1.87582378e+01]\n",
            " [-1.09094915e+01 -1.43076544e+01]\n",
            " [-1.97675991e+01  1.14440622e+01]\n",
            " [-2.07994995e+01  1.37564116e+01]\n",
            " [-5.62082338e+00 -1.31266222e+01]\n",
            " [-1.97226124e+01  1.10328751e+01]\n",
            " [-2.01322594e+01  1.24245567e+01]\n",
            " [-9.28802586e+00 -1.05763111e+01]\n",
            " [-8.44764709e+00 -1.15759888e+01]\n",
            " [-8.68663979e+00 -1.13368731e+01]\n",
            " [-4.59387732e+00 -1.43109779e+01]\n",
            " [-9.82668114e+00 -1.03213654e+01]\n",
            " [-3.82881236e+00 -1.42948513e+01]\n",
            " [ 1.92197549e+00 -1.82491245e+01]\n",
            " [-2.03741150e+01  1.16235428e+01]\n",
            " [ 2.80930996e+00 -1.96627064e+01]\n",
            " [ 1.37875247e+00 -1.78174839e+01]\n",
            " [-6.39134264e+00 -1.42797375e+01]\n",
            " [-8.46473598e+00 -1.20415316e+01]\n",
            " [ 1.50352907e+00 -1.85954437e+01]\n",
            " [-2.07610321e+01  1.26508389e+01]\n",
            " [ 2.33683801e+00 -1.94007988e+01]\n",
            " [-3.24897170e+00 -1.47942839e+01]\n",
            " [ 3.64283562e-01 -1.72645702e+01]\n",
            " [-1.98033352e+01  1.00422468e+01]\n",
            " [-4.47744465e+00 -1.50150471e+01]\n",
            " [ 2.07593846e+00 -1.98110600e+01]\n",
            " [-9.52818775e+00 -1.15008183e+01]\n",
            " [-1.03453293e+01 -1.28837061e+01]\n",
            " [-2.15144367e+01  1.31591787e+01]\n",
            " [-2.07451038e+01  1.10675869e+01]\n",
            " [-1.11871452e+01 -1.36895790e+01]\n",
            " [-2.15390644e+01  1.36298580e+01]\n",
            " [-5.88132095e+00 -1.38270350e+01]\n",
            " [-5.58813620e+00 -1.50911617e+01]\n",
            " [-2.14276962e+01  1.21917515e+01]\n",
            " [-7.42221355e+00 -1.30440292e+01]\n",
            " [-8.93160629e+00 -1.23962584e+01]\n",
            " [-2.75196290e+00 -1.56697311e+01]\n",
            " [-2.01997395e+01  9.31116962e+00]\n",
            " [-1.10674686e+01 -1.32692127e+01]\n",
            " [-2.90594435e+00 -1.58589325e+01]\n",
            " [-2.06721611e+01  1.03346462e+01]\n",
            " [-4.08793354e+00 -1.54331350e+01]\n",
            " [-5.68546104e+00 -1.58872557e+01]\n",
            " [ 1.23502338e+00 -1.95143585e+01]\n",
            " [-1.16412735e+01 -1.35459280e+01]\n",
            " [-1.00652514e+01 -1.11580486e+01]\n",
            " [ 3.77156109e-01 -1.86659222e+01]\n",
            " [-4.95909691e+00 -1.54069710e+01]\n",
            " [-4.72780377e-01 -1.78661728e+01]\n",
            " [ 4.96832095e-03 -1.83793907e+01]]\n"
          ]
        }
      ]
    },
    {
      "cell_type": "code",
      "metadata": {
        "colab": {
          "base_uri": "https://localhost:8080/",
          "height": 202
        },
        "id": "gLEv08xBy4Xn",
        "outputId": "9a629f86-e0e0-42ae-de18-62d8b3f73dc8"
      },
      "source": [
        "new_df = pd.DataFrame(data = X_2d\n",
        "             , columns = ['feature 1', 'feature 2'])\n",
        "tsne_df = pd.concat([new_df, y_fix], axis = 1)\n",
        "tsne_df.head()"
      ],
      "execution_count": null,
      "outputs": [
        {
          "output_type": "execute_result",
          "data": {
            "text/html": [
              "<div>\n",
              "<style scoped>\n",
              "    .dataframe tbody tr th:only-of-type {\n",
              "        vertical-align: middle;\n",
              "    }\n",
              "\n",
              "    .dataframe tbody tr th {\n",
              "        vertical-align: top;\n",
              "    }\n",
              "\n",
              "    .dataframe thead th {\n",
              "        text-align: right;\n",
              "    }\n",
              "</style>\n",
              "<table border=\"1\" class=\"dataframe\">\n",
              "  <thead>\n",
              "    <tr style=\"text-align: right;\">\n",
              "      <th></th>\n",
              "      <th>feature 1</th>\n",
              "      <th>feature 2</th>\n",
              "      <th>Y house price of unit area</th>\n",
              "    </tr>\n",
              "  </thead>\n",
              "  <tbody>\n",
              "    <tr>\n",
              "      <th>0</th>\n",
              "      <td>-5.576285</td>\n",
              "      <td>23.701403</td>\n",
              "      <td>37.9</td>\n",
              "    </tr>\n",
              "    <tr>\n",
              "      <th>1</th>\n",
              "      <td>15.280422</td>\n",
              "      <td>7.055339</td>\n",
              "      <td>42.2</td>\n",
              "    </tr>\n",
              "    <tr>\n",
              "      <th>2</th>\n",
              "      <td>16.063507</td>\n",
              "      <td>4.829190</td>\n",
              "      <td>47.3</td>\n",
              "    </tr>\n",
              "    <tr>\n",
              "      <th>3</th>\n",
              "      <td>15.655967</td>\n",
              "      <td>4.639102</td>\n",
              "      <td>54.8</td>\n",
              "    </tr>\n",
              "    <tr>\n",
              "      <th>4</th>\n",
              "      <td>19.405073</td>\n",
              "      <td>0.498343</td>\n",
              "      <td>43.1</td>\n",
              "    </tr>\n",
              "  </tbody>\n",
              "</table>\n",
              "</div>"
            ],
            "text/plain": [
              "   feature 1  feature 2  Y house price of unit area\n",
              "0  -5.576285  23.701403                        37.9\n",
              "1  15.280422   7.055339                        42.2\n",
              "2  16.063507   4.829190                        47.3\n",
              "3  15.655967   4.639102                        54.8\n",
              "4  19.405073   0.498343                        43.1"
            ]
          },
          "metadata": {},
          "execution_count": 44
        }
      ]
    },
    {
      "cell_type": "markdown",
      "metadata": {
        "id": "3AMGaIYbDLzD"
      },
      "source": [
        "* t-SNE\n",
        "\n",
        "\n",
        "Menggunakan modul scaller, memvisualisasikan ke dua dimensi, perbedaannya tsne hanya emnggunakan variable x  yang akan Menghasilkan fitur baru  \n"
      ]
    },
    {
      "cell_type": "code",
      "metadata": {
        "colab": {
          "base_uri": "https://localhost:8080/",
          "height": 523
        },
        "id": "D2MfhsYXy_GE",
        "outputId": "dba97805-17ee-419f-aecf-1494fe25de31"
      },
      "source": [
        "fig = plt.figure(figsize = (8,8))\n",
        "ax = fig.add_subplot(1,1,1) \n",
        "ax.set_xlabel('feature 1', fontsize = 15)\n",
        "ax.set_ylabel('feature 2', fontsize = 15)\n",
        "ax.set_title('2D t-SNE ', fontsize = 20)\n",
        "targets = [1.0,2.0]\n",
        "colors = ['r', 'b']\n",
        "for target, color in zip(targets,colors):\n",
        "    indicesToKeep = tsne_df['Y house price of unit area'] == target\n",
        "    ax.scatter(tsne_df.loc[indicesToKeep, 'feature 1']\n",
        "               , tsne_df.loc[indicesToKeep, 'feature 2']\n",
        "               , c = color\n",
        "               , s = 50)\n",
        "ax.legend([\"4\", \"1\"])\n",
        "ax.grid()"
      ],
      "execution_count": null,
      "outputs": [
        {
          "output_type": "display_data",
          "data": {
            "image/png": "[encoded data removed]",
            "text/plain": [
              "<Figure size 576x576 with 1 Axes>"
            ]
          },
          "metadata": {
            "needs_background": "light"
          }
        }
      ]
    }
  ]
}